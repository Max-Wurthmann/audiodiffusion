{
 "cells": [
  {
   "cell_type": "code",
   "execution_count": 1,
   "id": "421ef5e6-5e9c-4853-bdba-fd67fb5aaf44",
   "metadata": {
    "tags": []
   },
   "outputs": [],
   "source": [
    "import os\n",
    "from IPython.display import Audio\n",
    "import dotenv\n",
    "import torch\n",
    "from torchaudio import load\n",
    "from matplotlib import pyplot as plt\n",
    "import numpy as np\n",
    "import pandas as pd\n",
    "from tqdm import tqdm\n",
    "\n",
    "from hydra.utils import instantiate\n",
    "from hydra import compose, initialize\n",
    "import pytorch_lightning as pl\n",
    "from omegaconf import DictConfig, open_dict\n",
    "from audio_diffusion_pytorch import DiffusionModel, UNetV0, VDiffusion, VSampler\n",
    "\n",
    "from train.main.models import get_default_diffgen"
   ]
  },
  {
   "cell_type": "code",
   "execution_count": 2,
   "id": "76bcdb96-cabc-45fe-92e2-a34b972e6232",
   "metadata": {},
   "outputs": [],
   "source": [
    "# optional init via hydra\n",
    "os.chdir(\"train\")\n",
    "initialize(version_base=None, config_path=\"train\", job_name=\"test_app\")\n",
    "cfg = compose(config_name=\"config\")\n",
    "# cfg = compose(config_name=\"exp/diff_gen\", \n",
    "#                         overrides=[\"+meta_dir=/data/meta\", \n",
    "#                                    \"num_workers=2\", \n",
    "#                                    \"prefetch_factor=2\",\n",
    "#                                    \"+seed=12345\"])"
   ]
  },
  {
   "cell_type": "code",
   "execution_count": 3,
   "id": "f37fc2c1-a115-4882-affb-ff8e14642e81",
   "metadata": {},
   "outputs": [],
   "source": [
    "datamodule = instantiate(cfg.datamodule)\n",
    "xeno_canto = instantiate(cfg.datamodule.datasets[0])\n",
    "bergman = instantiate(cfg.datamodule.datasets[1])"
   ]
  },
  {
   "cell_type": "code",
   "execution_count": 4,
   "id": "bba55aa0-cef8-47ce-b7b0-59f4dbf94d5e",
   "metadata": {},
   "outputs": [
    {
     "data": {
      "text/plain": [
       "False"
      ]
     },
     "execution_count": 4,
     "metadata": {},
     "output_type": "execute_result"
    }
   ],
   "source": [
    "datamodule.stratify"
   ]
  },
  {
   "cell_type": "code",
   "execution_count": 5,
   "id": "c3dc1d4d-e884-4cc7-b464-11b015b65da7",
   "metadata": {
    "collapsed": true,
    "jupyter": {
     "outputs_hidden": true
    }
   },
   "outputs": [
    {
     "name": "stderr",
     "output_type": "stream",
     "text": [
      "  1%|          | 56/9781 [00:44<2:07:36,  1.27it/s]\n"
     ]
    },
    {
     "ename": "KeyboardInterrupt",
     "evalue": "",
     "output_type": "error",
     "traceback": [
      "\u001b[0;31m---------------------------------------------------------------------------\u001b[0m",
      "\u001b[0;31mKeyboardInterrupt\u001b[0m                         Traceback (most recent call last)",
      "Cell \u001b[0;32mIn[5], line 2\u001b[0m\n\u001b[1;32m      1\u001b[0m counts \u001b[38;5;241m=\u001b[39m \u001b[38;5;28mdict\u001b[39m()\n\u001b[0;32m----> 2\u001b[0m \u001b[38;5;28;01mfor\u001b[39;00m _, labels \u001b[38;5;129;01min\u001b[39;00m tqdm(datamodule\u001b[38;5;241m.\u001b[39mtrain_dataloader()):\n\u001b[1;32m      3\u001b[0m     \u001b[38;5;28;01mfor\u001b[39;00m label \u001b[38;5;129;01min\u001b[39;00m labels:\n\u001b[1;32m      4\u001b[0m         name \u001b[38;5;241m=\u001b[39m label\u001b[38;5;241m.\u001b[39msplit(\u001b[38;5;124m\"\u001b[39m\u001b[38;5;124m;\u001b[39m\u001b[38;5;124m\"\u001b[39m)[\u001b[38;5;241m0\u001b[39m]\n",
      "File \u001b[0;32m/opt/conda/lib/python3.10/site-packages/tqdm/std.py:1178\u001b[0m, in \u001b[0;36mtqdm.__iter__\u001b[0;34m(self)\u001b[0m\n\u001b[1;32m   1175\u001b[0m time \u001b[38;5;241m=\u001b[39m \u001b[38;5;28mself\u001b[39m\u001b[38;5;241m.\u001b[39m_time\n\u001b[1;32m   1177\u001b[0m \u001b[38;5;28;01mtry\u001b[39;00m:\n\u001b[0;32m-> 1178\u001b[0m     \u001b[38;5;28;01mfor\u001b[39;00m obj \u001b[38;5;129;01min\u001b[39;00m iterable:\n\u001b[1;32m   1179\u001b[0m         \u001b[38;5;28;01myield\u001b[39;00m obj\n\u001b[1;32m   1180\u001b[0m         \u001b[38;5;66;03m# Update and possibly print the progressbar.\u001b[39;00m\n\u001b[1;32m   1181\u001b[0m         \u001b[38;5;66;03m# Note: does not call self.update(1) for speed optimisation.\u001b[39;00m\n",
      "File \u001b[0;32m/opt/conda/lib/python3.10/site-packages/torch/utils/data/dataloader.py:630\u001b[0m, in \u001b[0;36m_BaseDataLoaderIter.__next__\u001b[0;34m(self)\u001b[0m\n\u001b[1;32m    627\u001b[0m \u001b[38;5;28;01mif\u001b[39;00m \u001b[38;5;28mself\u001b[39m\u001b[38;5;241m.\u001b[39m_sampler_iter \u001b[38;5;129;01mis\u001b[39;00m \u001b[38;5;28;01mNone\u001b[39;00m:\n\u001b[1;32m    628\u001b[0m     \u001b[38;5;66;03m# TODO(https://github.com/pytorch/pytorch/issues/76750)\u001b[39;00m\n\u001b[1;32m    629\u001b[0m     \u001b[38;5;28mself\u001b[39m\u001b[38;5;241m.\u001b[39m_reset()  \u001b[38;5;66;03m# type: ignore[call-arg]\u001b[39;00m\n\u001b[0;32m--> 630\u001b[0m data \u001b[38;5;241m=\u001b[39m \u001b[38;5;28;43mself\u001b[39;49m\u001b[38;5;241;43m.\u001b[39;49m\u001b[43m_next_data\u001b[49m\u001b[43m(\u001b[49m\u001b[43m)\u001b[49m\n\u001b[1;32m    631\u001b[0m \u001b[38;5;28mself\u001b[39m\u001b[38;5;241m.\u001b[39m_num_yielded \u001b[38;5;241m+\u001b[39m\u001b[38;5;241m=\u001b[39m \u001b[38;5;241m1\u001b[39m\n\u001b[1;32m    632\u001b[0m \u001b[38;5;28;01mif\u001b[39;00m \u001b[38;5;28mself\u001b[39m\u001b[38;5;241m.\u001b[39m_dataset_kind \u001b[38;5;241m==\u001b[39m _DatasetKind\u001b[38;5;241m.\u001b[39mIterable \u001b[38;5;129;01mand\u001b[39;00m \\\n\u001b[1;32m    633\u001b[0m         \u001b[38;5;28mself\u001b[39m\u001b[38;5;241m.\u001b[39m_IterableDataset_len_called \u001b[38;5;129;01mis\u001b[39;00m \u001b[38;5;129;01mnot\u001b[39;00m \u001b[38;5;28;01mNone\u001b[39;00m \u001b[38;5;129;01mand\u001b[39;00m \\\n\u001b[1;32m    634\u001b[0m         \u001b[38;5;28mself\u001b[39m\u001b[38;5;241m.\u001b[39m_num_yielded \u001b[38;5;241m>\u001b[39m \u001b[38;5;28mself\u001b[39m\u001b[38;5;241m.\u001b[39m_IterableDataset_len_called:\n",
      "File \u001b[0;32m/opt/conda/lib/python3.10/site-packages/torch/utils/data/dataloader.py:1328\u001b[0m, in \u001b[0;36m_MultiProcessingDataLoaderIter._next_data\u001b[0;34m(self)\u001b[0m\n\u001b[1;32m   1325\u001b[0m     \u001b[38;5;28;01mreturn\u001b[39;00m \u001b[38;5;28mself\u001b[39m\u001b[38;5;241m.\u001b[39m_process_data(data)\n\u001b[1;32m   1327\u001b[0m \u001b[38;5;28;01massert\u001b[39;00m \u001b[38;5;129;01mnot\u001b[39;00m \u001b[38;5;28mself\u001b[39m\u001b[38;5;241m.\u001b[39m_shutdown \u001b[38;5;129;01mand\u001b[39;00m \u001b[38;5;28mself\u001b[39m\u001b[38;5;241m.\u001b[39m_tasks_outstanding \u001b[38;5;241m>\u001b[39m \u001b[38;5;241m0\u001b[39m\n\u001b[0;32m-> 1328\u001b[0m idx, data \u001b[38;5;241m=\u001b[39m \u001b[38;5;28;43mself\u001b[39;49m\u001b[38;5;241;43m.\u001b[39;49m\u001b[43m_get_data\u001b[49m\u001b[43m(\u001b[49m\u001b[43m)\u001b[49m\n\u001b[1;32m   1329\u001b[0m \u001b[38;5;28mself\u001b[39m\u001b[38;5;241m.\u001b[39m_tasks_outstanding \u001b[38;5;241m-\u001b[39m\u001b[38;5;241m=\u001b[39m \u001b[38;5;241m1\u001b[39m\n\u001b[1;32m   1330\u001b[0m \u001b[38;5;28;01mif\u001b[39;00m \u001b[38;5;28mself\u001b[39m\u001b[38;5;241m.\u001b[39m_dataset_kind \u001b[38;5;241m==\u001b[39m _DatasetKind\u001b[38;5;241m.\u001b[39mIterable:\n\u001b[1;32m   1331\u001b[0m     \u001b[38;5;66;03m# Check for _IterableDatasetStopIteration\u001b[39;00m\n",
      "File \u001b[0;32m/opt/conda/lib/python3.10/site-packages/torch/utils/data/dataloader.py:1284\u001b[0m, in \u001b[0;36m_MultiProcessingDataLoaderIter._get_data\u001b[0;34m(self)\u001b[0m\n\u001b[1;32m   1282\u001b[0m \u001b[38;5;28;01melif\u001b[39;00m \u001b[38;5;28mself\u001b[39m\u001b[38;5;241m.\u001b[39m_pin_memory:\n\u001b[1;32m   1283\u001b[0m     \u001b[38;5;28;01mwhile\u001b[39;00m \u001b[38;5;28mself\u001b[39m\u001b[38;5;241m.\u001b[39m_pin_memory_thread\u001b[38;5;241m.\u001b[39mis_alive():\n\u001b[0;32m-> 1284\u001b[0m         success, data \u001b[38;5;241m=\u001b[39m \u001b[38;5;28;43mself\u001b[39;49m\u001b[38;5;241;43m.\u001b[39;49m\u001b[43m_try_get_data\u001b[49m\u001b[43m(\u001b[49m\u001b[43m)\u001b[49m\n\u001b[1;32m   1285\u001b[0m         \u001b[38;5;28;01mif\u001b[39;00m success:\n\u001b[1;32m   1286\u001b[0m             \u001b[38;5;28;01mreturn\u001b[39;00m data\n",
      "File \u001b[0;32m/opt/conda/lib/python3.10/site-packages/torch/utils/data/dataloader.py:1132\u001b[0m, in \u001b[0;36m_MultiProcessingDataLoaderIter._try_get_data\u001b[0;34m(self, timeout)\u001b[0m\n\u001b[1;32m   1119\u001b[0m \u001b[38;5;28;01mdef\u001b[39;00m \u001b[38;5;21m_try_get_data\u001b[39m(\u001b[38;5;28mself\u001b[39m, timeout\u001b[38;5;241m=\u001b[39m_utils\u001b[38;5;241m.\u001b[39mMP_STATUS_CHECK_INTERVAL):\n\u001b[1;32m   1120\u001b[0m     \u001b[38;5;66;03m# Tries to fetch data from `self._data_queue` once for a given timeout.\u001b[39;00m\n\u001b[1;32m   1121\u001b[0m     \u001b[38;5;66;03m# This can also be used as inner loop of fetching without timeout, with\u001b[39;00m\n\u001b[0;32m   (...)\u001b[0m\n\u001b[1;32m   1129\u001b[0m     \u001b[38;5;66;03m# Returns a 2-tuple:\u001b[39;00m\n\u001b[1;32m   1130\u001b[0m     \u001b[38;5;66;03m#   (bool: whether successfully get data, any: data if successful else None)\u001b[39;00m\n\u001b[1;32m   1131\u001b[0m     \u001b[38;5;28;01mtry\u001b[39;00m:\n\u001b[0;32m-> 1132\u001b[0m         data \u001b[38;5;241m=\u001b[39m \u001b[38;5;28;43mself\u001b[39;49m\u001b[38;5;241;43m.\u001b[39;49m\u001b[43m_data_queue\u001b[49m\u001b[38;5;241;43m.\u001b[39;49m\u001b[43mget\u001b[49m\u001b[43m(\u001b[49m\u001b[43mtimeout\u001b[49m\u001b[38;5;241;43m=\u001b[39;49m\u001b[43mtimeout\u001b[49m\u001b[43m)\u001b[49m\n\u001b[1;32m   1133\u001b[0m         \u001b[38;5;28;01mreturn\u001b[39;00m (\u001b[38;5;28;01mTrue\u001b[39;00m, data)\n\u001b[1;32m   1134\u001b[0m     \u001b[38;5;28;01mexcept\u001b[39;00m \u001b[38;5;167;01mException\u001b[39;00m \u001b[38;5;28;01mas\u001b[39;00m e:\n\u001b[1;32m   1135\u001b[0m         \u001b[38;5;66;03m# At timeout and error, we manually check whether any worker has\u001b[39;00m\n\u001b[1;32m   1136\u001b[0m         \u001b[38;5;66;03m# failed. Note that this is the only mechanism for Windows to detect\u001b[39;00m\n\u001b[1;32m   1137\u001b[0m         \u001b[38;5;66;03m# worker failures.\u001b[39;00m\n",
      "File \u001b[0;32m/opt/conda/lib/python3.10/queue.py:180\u001b[0m, in \u001b[0;36mQueue.get\u001b[0;34m(self, block, timeout)\u001b[0m\n\u001b[1;32m    178\u001b[0m         \u001b[38;5;28;01mif\u001b[39;00m remaining \u001b[38;5;241m<\u001b[39m\u001b[38;5;241m=\u001b[39m \u001b[38;5;241m0.0\u001b[39m:\n\u001b[1;32m    179\u001b[0m             \u001b[38;5;28;01mraise\u001b[39;00m Empty\n\u001b[0;32m--> 180\u001b[0m         \u001b[38;5;28;43mself\u001b[39;49m\u001b[38;5;241;43m.\u001b[39;49m\u001b[43mnot_empty\u001b[49m\u001b[38;5;241;43m.\u001b[39;49m\u001b[43mwait\u001b[49m\u001b[43m(\u001b[49m\u001b[43mremaining\u001b[49m\u001b[43m)\u001b[49m\n\u001b[1;32m    181\u001b[0m item \u001b[38;5;241m=\u001b[39m \u001b[38;5;28mself\u001b[39m\u001b[38;5;241m.\u001b[39m_get()\n\u001b[1;32m    182\u001b[0m \u001b[38;5;28mself\u001b[39m\u001b[38;5;241m.\u001b[39mnot_full\u001b[38;5;241m.\u001b[39mnotify()\n",
      "File \u001b[0;32m/opt/conda/lib/python3.10/threading.py:324\u001b[0m, in \u001b[0;36mCondition.wait\u001b[0;34m(self, timeout)\u001b[0m\n\u001b[1;32m    322\u001b[0m \u001b[38;5;28;01melse\u001b[39;00m:\n\u001b[1;32m    323\u001b[0m     \u001b[38;5;28;01mif\u001b[39;00m timeout \u001b[38;5;241m>\u001b[39m \u001b[38;5;241m0\u001b[39m:\n\u001b[0;32m--> 324\u001b[0m         gotit \u001b[38;5;241m=\u001b[39m \u001b[43mwaiter\u001b[49m\u001b[38;5;241;43m.\u001b[39;49m\u001b[43macquire\u001b[49m\u001b[43m(\u001b[49m\u001b[38;5;28;43;01mTrue\u001b[39;49;00m\u001b[43m,\u001b[49m\u001b[43m \u001b[49m\u001b[43mtimeout\u001b[49m\u001b[43m)\u001b[49m\n\u001b[1;32m    325\u001b[0m     \u001b[38;5;28;01melse\u001b[39;00m:\n\u001b[1;32m    326\u001b[0m         gotit \u001b[38;5;241m=\u001b[39m waiter\u001b[38;5;241m.\u001b[39macquire(\u001b[38;5;28;01mFalse\u001b[39;00m)\n",
      "\u001b[0;31mKeyboardInterrupt\u001b[0m: "
     ]
    }
   ],
   "source": [
    "counts = dict()\n",
    "for _, labels in tqdm(datamodule.train_dataloader()):\n",
    "    for label in labels:\n",
    "        name = label.split(\";\")[0]\n",
    "        if name in counts:\n",
    "            counts[name] += 1\n",
    "        else:\n",
    "            counts[name] = 1"
   ]
  },
  {
   "cell_type": "code",
   "execution_count": 6,
   "id": "3f2d6f6e-8126-4d4e-b885-7b2ce8340b0e",
   "metadata": {
    "scrolled": true
   },
   "outputs": [
    {
     "name": "stdout",
     "output_type": "stream",
     "text": [
      "1792\n"
     ]
    },
    {
     "data": {
      "image/png": "[encoded data removed]",
      "text/plain": [
       "<Figure size 640x480 with 1 Axes>"
      ]
     },
     "metadata": {},
     "output_type": "display_data"
    }
   ],
   "source": [
    "# not stratified\n",
    "counts = pd.Series(counts)\n",
    "counts.plot()\n",
    "print(counts.sum())"
   ]
  },
  {
   "cell_type": "code",
   "execution_count": 12,
   "id": "dfb65db3-e111-4a00-9ba9-98546392f081",
   "metadata": {},
   "outputs": [
    {
     "name": "stdout",
     "output_type": "stream",
     "text": [
      "2112\n"
     ]
    },
    {
     "data": {
      "image/png": "[encoded data removed]",
      "text/plain": [
       "<Figure size 640x480 with 1 Axes>"
      ]
     },
     "metadata": {},
     "output_type": "display_data"
    }
   ],
   "source": [
    "# with stratified sampling\n",
    "counts = pd.Series(counts)\n",
    "counts.plot()\n",
    "print(counts.sum())"
   ]
  },
  {
   "cell_type": "code",
   "execution_count": 3,
   "id": "65407142-7bfd-4231-9e2a-6c8a671537c3",
   "metadata": {},
   "outputs": [
    {
     "name": "stdout",
     "output_type": "stream",
     "text": [
      "<class 'main.models.DiffGen'>\n",
      "<class 'audio_diffusion_pytorch.models.DiffusionModel'>\n",
      "<class 'audio_diffusion_pytorch.models.DiffusionModel'>\n"
     ]
    }
   ],
   "source": [
    "model = instantiate(cfg.model)\n",
    "print(type(model))  # training wrapper\n",
    "print(type(model.model))\n",
    "print(type(model.ema.ema_model)) #use for inference"
   ]
  },
  {
   "cell_type": "markdown",
   "id": "17b8c965-de48-4bc5-b299-cfc9cf324f95",
   "metadata": {},
   "source": [
    "## Load diffgen from training checkpoint"
   ]
  },
  {
   "cell_type": "code",
   "execution_count": 4,
   "id": "2ecc98d6-571d-40ab-91b9-6266928ee105",
   "metadata": {},
   "outputs": [
    {
     "name": "stdout",
     "output_type": "stream",
     "text": [
      "<All keys matched successfully>\n"
     ]
    }
   ],
   "source": [
    "ckpt_dir = \"/data/logs/ckpts/2024-01-11-15-18-08/epoch=57-valid_loss=0.036.ckpt\"\n",
    "ckpt = torch.load(ckpt_dir)\n",
    "print(model.load_state_dict(ckpt[\"state_dict\"]))\n",
    "diffgen = model.ema.ema_model"
   ]
  },
  {
   "cell_type": "markdown",
   "id": "6632cb4e-f597-4a79-8171-f7e079568cbb",
   "metadata": {},
   "source": [
    "## Load diffgen from state_dict"
   ]
  },
  {
   "cell_type": "code",
   "execution_count": 5,
   "id": "ae38642b-62d2-4db6-852a-e4a85641d3a1",
   "metadata": {},
   "outputs": [],
   "source": [
    "diffgen_path = \"/data/logs/ckpts/diffgen_v3\"\n",
    "torch.save(diffgen.state_dict(), diffgen_path)\n",
    "diffgen = get_default_diffgen(state_dict_file=diffgen_path)"
   ]
  },
  {
   "cell_type": "markdown",
   "id": "097f3747-95e4-4e5f-872f-64217cac703d",
   "metadata": {},
   "source": [
    "### Model Testing"
   ]
  },
  {
   "cell_type": "code",
   "execution_count": 13,
   "id": "3e6d8c01-26ee-424e-8a87-628ea9e5a99d",
   "metadata": {},
   "outputs": [
    {
     "name": "stdout",
     "output_type": "stream",
     "text": [
      "<class 'audio_diffusion_pytorch.models.DiffusionModel'>\n"
     ]
    }
   ],
   "source": [
    "device = \"cuda:0\"\n",
    "diffgen.eval().to(device)\n",
    "print(type(diffgen))"
   ]
  },
  {
   "cell_type": "code",
   "execution_count": 8,
   "id": "12afeebb-0c0b-40e8-ab04-46b49015acfd",
   "metadata": {},
   "outputs": [
    {
     "name": "stdout",
     "output_type": "stream",
     "text": [
      "torch.Size([2, 32, 2048])\n"
     ]
    }
   ],
   "source": [
    "#2**21 == 2048 * 32/2 * 64\n",
    "noise = torch.randn(2, 32, 2048).cuda()\n",
    "embedding = model.get_text_embeddings([\"Xiphorhynchus chunchotambo; morning; December; 2013; Perú; 3 of 5; call\", \"this is just a test\"]).cuda()\n",
    "with torch.no_grad():\n",
    "    waveform = diffgen.sample(noise, num_steps=100, embedding=embedding)\n",
    "    print(waveform.shape)"
   ]
  },
  {
   "cell_type": "code",
   "execution_count": 11,
   "id": "91684495-74d7-4335-b16c-7be687ac9383",
   "metadata": {},
   "outputs": [
    {
     "name": "stdout",
     "output_type": "stream",
     "text": [
      "tensor(True, device='cuda:0')\n"
     ]
    }
   ],
   "source": [
    "# diffgen is a ddim and therefor deterministic\n",
    "with torch.no_grad():\n",
    "    w1 = diffgen.sample(noise, num_steps=10, embedding=embedding)\n",
    "    w2 = diffgen.sample(noise, num_steps=10, embedding=embedding)\n",
    "\n",
    "print((w1 == w2).all())"
   ]
  },
  {
   "cell_type": "code",
   "execution_count": 71,
   "id": "c4bedc4b-16e3-4ff6-8920-72dfb56036fe",
   "metadata": {
    "tags": []
   },
   "outputs": [],
   "source": [
    "latent = torch.randn(1, 32, 512).to(device)\n",
    "embedding = torch.randn(1, 128, 768).to(device)"
   ]
  },
  {
   "cell_type": "code",
   "execution_count": 73,
   "id": "41b06567-1363-43ca-8ff1-a0cbc44c2c17",
   "metadata": {
    "tags": []
   },
   "outputs": [
    {
     "data": {
      "text/plain": [
       "tensor(1.5513, device='cuda:0', grad_fn=<MseLossBackward0>)"
      ]
     },
     "execution_count": 73,
     "metadata": {},
     "output_type": "execute_result"
    }
   ],
   "source": [
    "loss = diffgen(latent, \n",
    "      embedding=embedding,\n",
    "      embedding_mask_proba=0.1,\n",
    "     )\n",
    "loss"
   ]
  },
  {
   "cell_type": "markdown",
   "id": "8ce18621-db27-4fcf-94e9-0e3f1df8d573",
   "metadata": {},
   "source": [
    "### Testing dataload"
   ]
  },
  {
   "cell_type": "code",
   "execution_count": 5,
   "id": "4cb2972b-e030-4c1d-8d20-84c92e06814e",
   "metadata": {},
   "outputs": [
    {
     "name": "stdout",
     "output_type": "stream",
     "text": [
      "['Milvus migrans; morning; week 23; 2018; Россия; 18.2 seconds; 4 of 5; call; Corvus cornix; Mareca penelope', 'Cinnycerthia unirufa; morning; week 24; 2014; Perú; 7.8 seconds; 4 of 5; song; call', 'Lepidocolaptes falcinellus; morning; week 10; 2015; Brasil; 1.1 seconds; 3 of 5; song', 'Xiphorhynchus guttatus; afternoon; week 37; 1996; Ecuador; 7.5 seconds; 5 of 5; call', 'Rhipidura nigritorquis; morning; week 41; 2016; Philippines; 11.7 seconds; 4 of 5; song', 'Leptopoecile sophiae; ; week 20; 2007; Қазақстан; 19.1 seconds; 4 of 5; call; Mycerobas carnipes; Phylloscopus humei; Calliope pectoralis', 'Xiphocolaptes promeropirhynchus; ; week 10; 1996; Colombia; 17.2 seconds; 4 of 5', 'Myiarchus tyrannulus; afternoon; week 28; 2001; Brasil; 22.6 seconds; 5 of 5; call', 'Apus apus; night; week 27; 2017; Schweiz/Suisse/Svizzera/Svizra; 26.1 seconds; 3 of 5; call', 'Aegithalos concinnus; morning; week 08; 2021; 臺灣; 4.7 seconds; 4 of 5; call', 'Tarsiger cyanurus; afternoon; week 27; 2020; Sverige; 19.4 seconds; 4 of 5; song; Fringilla montifringilla; Fringilla coelebs', 'Troglodytes troglodytes; morning; week 28; 2017; Polska; 14.6 seconds; 4 of 5; call', 'Erithacus rubecula; morning; week 42; 2021; Schweiz/Suisse/Svizzera/Svizra; 22.8 seconds; 4 of 5; call', 'Turdus philomelos; evening; week 06; 2021; España; 14.1 seconds; 4 of 5; song', 'Donacobius atricapilla; evening; week 30; 2010; Perú; 13.9 seconds; 5 of 5; song', 'Garrulus glandarius; morning; week 12; 2019; Deutschland; 7.8 seconds; 5 of 5; call', 'Aegithalos caudatus; morning; week 37; 2020; Deutschland; 16.3 seconds; 5 of 5; call', 'Henicorhina leucophrys; morning; week 34; 2004; Colombia; 17.7 seconds; 3 of 5; song', 'Coturnix delegorguei; morning; week 03; 2019; São Tomé e Príncipe; 19.4 seconds; 4 of 5; song; Prinia molleri; Spilopelia senegalensis', 'Unknown; night; week 14; 2020; España; 11.7 seconds; 2 of 5; call', 'Crithagra leucopygia; morning; week 19; 2014; Sénégal; 17.7 seconds; 2 of 5; song; Cercotrichas podobe', 'Myrmelastes hyperythrus; morning; week 08; 2013; Perú; 11.6 seconds; 5 of 5; call', 'Pluvialis fulva; morning; week 01; 2010; ประเทศไทย; 6.0 seconds; 4 of 5; call', 'Psilorhinus morio; morning; week 40; 2021; México; 30.3 seconds; 5 of 5; call; adult', 'Grallaricula ferrugineipectus; morning; week 05; 2010; Colombia; 25.4 seconds; 4 of 5; song', 'Pterocles exustus; morning; week 52; 2014; ኢትዮጵያ; 14.1 seconds; 5 of 5; call', 'Nycticorax nycticorax; night; week 37; 2018; Nederland; 3.5 seconds; 3 of 5; call', 'Pica hudsonia; morning; week 20; 2013; Canada; 15.1 seconds; 4 of 5; call', 'Turdus migratorius; ; week 20; 1995; United States; 22.5 seconds; 3 of 5; call', 'Cisticola erythrops; ; week 47; 2009; Zambia; 24.5 seconds; 3 of 5', 'Bombycilla garrulus; afternoon; week 12; 2016; Canada; 17.8 seconds; 4 of 5; song', 'Gymnomystax mexicanus; afternoon; week 27; 2020; Colombia; 4.5 seconds; 5 of 5; song; adult']\n",
      "torch.Size([32, 2, 1048576])\n",
      "<class 'list'>\n",
      "32\n",
      "torch.Size([32, 2, 1048576])\n",
      "<class 'list'>\n",
      "32\n",
      "torch.Size([32, 2, 1048576])\n",
      "<class 'list'>\n",
      "32\n",
      "torch.Size([32, 2, 1048576])\n",
      "<class 'list'>\n",
      "32\n",
      "torch.Size([32, 2, 1048576])\n",
      "<class 'list'>\n",
      "32\n",
      "torch.Size([32, 2, 1048576])\n",
      "<class 'list'>\n",
      "32\n",
      "torch.Size([32, 2, 1048576])\n",
      "<class 'list'>\n",
      "32\n",
      "torch.Size([32, 2, 1048576])\n",
      "<class 'list'>\n",
      "32\n",
      "torch.Size([32, 2, 1048576])\n",
      "<class 'list'>\n",
      "32\n",
      "torch.Size([32, 2, 1048576])\n",
      "<class 'list'>\n",
      "32\n"
     ]
    }
   ],
   "source": [
    "iterator = iter(datamodule.test_dataloader())\n",
    "for i in range(10):\n",
    "    batch = next(iterator)\n",
    "    waveforms, labels = batch\n",
    "\n",
    "    if i == 0: print(labels)\n",
    "    print(waveforms.shape)\n",
    "    print(type(labels))\n",
    "    print(len(labels))"
   ]
  }
 ],
 "metadata": {
  "kernelspec": {
   "display_name": "Python 3 (ipykernel)",
   "language": "python",
   "name": "python3"
  },
  "language_info": {
   "codemirror_mode": {
    "name": "ipython",
    "version": 3
   },
   "file_extension": ".py",
   "mimetype": "text/x-python",
   "name": "python",
   "nbconvert_exporter": "python",
   "pygments_lexer": "ipython3",
   "version": "3.10.13"
  }
 },
 "nbformat": 4,
 "nbformat_minor": 5
}
