{
 "cells": [
  {
   "cell_type": "code",
   "execution_count": 1,
   "id": "9df07cc4-4a57-45f2-8da8-5d6d4be89547",
   "metadata": {},
   "outputs": [],
   "source": [
    "from datetime import datetime\n",
    "from tqdm import tqdm\n",
    "import os\n",
    "import math\n",
    "import pandas as pd\n",
    "import numpy as np\n",
    "import matplotlib.pyplot as plt\n",
    "import seaborn as sns\n",
    "import datasets\n",
    "from typing import List\n",
    "from pathlib import Path\n",
    "from train.main.models import get_default_combined_sampler\n",
    "import torch\n",
    "from IPython.display import Audio\n",
    "import warnings\n",
    "from sklearn.metrics import average_precision_score"
   ]
  },
  {
   "cell_type": "code",
   "execution_count": 2,
   "id": "8546275f-a270-437b-931f-b42c0900b0ba",
   "metadata": {},
   "outputs": [],
   "source": [
    "def mean_ap(df):\n",
    "    # is equivalent to:\n",
    "    # y_true = df.sci_name == df.detected_sci_name\n",
    "    # return average_precision_score(y_true=y_true, y_score=df.confidence) # same as adding average=\"mikro\"\n",
    "    \n",
    "    def get_ap(name):\n",
    "        y_true = (df.sci_name == df.detected_sci_name).astype(\"int\")\n",
    "       \n",
    "        y_score = df.confidence\n",
    "        score = average_precision_score(y_true=y_true, y_score=y_score)\n",
    "        return score\n",
    "        \n",
    "    return pd.Series(df.sci_name.unique()).map(get_ap).mean()\n",
    "\n",
    "\n",
    "def mean_ap_subset(df):\n",
    "    def get_ap(name):\n",
    "        subset = df[df.sci_name == name]\n",
    "        y_true = (subset.sci_name == subset.detected_sci_name).astype(\"int\")\n",
    "\n",
    "        # fixes warning recall = 0/0 \n",
    "        if y_true.sum() == 0: return 0\n",
    "       \n",
    "        y_score = subset.confidence\n",
    "        score = average_precision_score(y_true=y_true, y_score=y_score)\n",
    "        return score\n",
    "        \n",
    "    return pd.Series(df.sci_name.unique()).map(get_ap).mean()\n",
    "\n",
    "\n",
    "def prepare_for_sklearn(df):\n",
    "    all_samples = set(df.file)\n",
    "    get_sample_idx = {sample: i for i, sample in enumerate(all_samples)}\n",
    "    \n",
    "    all_classes = set(df.sci_name).union(set(df.detected_sci_name))\n",
    "    get_class_idx = {c: i for i, c in enumerate(all_classes)}\n",
    "    \n",
    "    \n",
    "    y_true = np.zeros((len(all_samples), len(all_classes))).astype(\"int32\")\n",
    "    y_score = np.zeros((len(all_samples), len(all_classes)))\n",
    "    \n",
    "    for i, x in df.iterrows():\n",
    "        sample_idx = get_sample_idx[x.file]\n",
    "        pred_class_idx = get_class_idx[x.detected_sci_name]\n",
    "        true_class_idx = get_class_idx[x.sci_name]\n",
    "        \n",
    "        # there may be multiple detections for one class within one sample: use max confidence\n",
    "        if y_score[sample_idx, pred_class_idx] >= x.confidence:\n",
    "            continue\n",
    "        else:\n",
    "            y_score[sample_idx, pred_class_idx] = x.confidence\n",
    "    \n",
    "        y_true[sample_idx, true_class_idx] = 1\n",
    "\n",
    "    return dict(y_true=y_true, y_score=y_score)\n",
    "\n",
    "\n",
    "def get_macro_ap(df):\n",
    "    all_samples = set(df.file)\n",
    "    get_sample_idx = {sample: i for i, sample in enumerate(all_samples)}\n",
    "    \n",
    "    all_classes = set(df.sci_name).union(set(df.detected_sci_name))\n",
    "    get_class_idx = {c: i for i, c in enumerate(all_classes)}\n",
    "    \n",
    "    \n",
    "    y_true = np.zeros((len(all_samples), len(all_classes))).astype(\"int32\")\n",
    "    y_score = np.zeros((len(all_samples), len(all_classes)))\n",
    "    \n",
    "    for _, x in df.iterrows():\n",
    "        sample_idx = get_sample_idx[x.file]\n",
    "        pred_class_idx = get_class_idx[x.detected_sci_name]\n",
    "        true_class_idx = get_class_idx[x.sci_name]\n",
    "        \n",
    "        # there may be multiple detections for one class within one sample: use max confidence\n",
    "        if y_score[sample_idx, pred_class_idx] >= x.confidence:\n",
    "            continue\n",
    "        else:\n",
    "            y_score[sample_idx, pred_class_idx] = x.confidence\n",
    "    \n",
    "        y_true[sample_idx, true_class_idx] = 1\n",
    "\n",
    "    # classes that are only in detections not in files yield userwarning\n",
    "    # can be ignored\n",
    "    with warnings.catch_warnings():\n",
    "        warnings.filterwarnings(\"ignore\")\n",
    "        ap_vals = average_precision_score(y_true=y_true, y_score=y_score, average=None)\n",
    "    # average only over classes in files\n",
    "    macro = pd.Series(df.sci_name.unique()).map(lambda name: ap_vals[get_class_idx[name]]).mean()\n",
    "    return macro"
   ]
  },
  {
   "cell_type": "code",
   "execution_count": 21,
   "id": "60c413cf-0a52-4d4a-98f1-67d83b1fdaa5",
   "metadata": {},
   "outputs": [
    {
     "name": "stdout",
     "output_type": "stream",
     "text": [
      "steps25_scale5_v3\n",
      "mAP: 0.5230\n",
      "subset mAP: 0.1458\n",
      "sklearn macro ap: 0.2042\n",
      "sklearn micro ap: 0.1086\n",
      "\n",
      "steps50_scale5_v3\n",
      "mAP: 0.5228\n",
      "subset mAP: 0.1440\n",
      "sklearn macro ap: 0.2003\n",
      "sklearn micro ap: 0.1177\n",
      "\n",
      "steps100_scale5_v3\n",
      "mAP: 0.5255\n",
      "subset mAP: 0.1395\n",
      "sklearn macro ap: 0.2122\n",
      "sklearn micro ap: 0.1279\n",
      "\n",
      "steps200_scale5_v3\n",
      "mAP: 0.5290\n",
      "subset mAP: 0.1424\n",
      "sklearn macro ap: 0.2078\n",
      "sklearn micro ap: 0.1398\n",
      "\n",
      "steps400_scale5_v3\n",
      "mAP: 0.5446\n",
      "subset mAP: 0.1426\n",
      "sklearn macro ap: 0.2210\n",
      "sklearn micro ap: 0.1433\n",
      "\n",
      "steps800_scale5_v3\n",
      "mAP: 0.5463\n",
      "subset mAP: 0.1343\n",
      "sklearn macro ap: 0.2101\n",
      "sklearn micro ap: 0.1342\n",
      "\n"
     ]
    }
   ],
   "source": [
    "exp_dir = \"/data/tests/analysed\"\n",
    "\n",
    "step_exp = [\n",
    "    \"steps25_scale5_v3.csv\",\n",
    "    \"steps50_scale5_v3.csv\",\n",
    "    \"steps100_scale5_v3.csv\",\n",
    "    \"steps200_scale5_v3.csv\",\n",
    "    \"steps400_scale5_v3.csv\",\n",
    "    \"steps800_scale5_v3.csv\",\n",
    "]\n",
    "scale_exp = [\n",
    "    \"steps100_scale1_v3.csv\",\n",
    "    \"steps100_scale2,5_v3.csv\",\n",
    "    \"steps100_scale5_v3.csv\",\n",
    "    \"steps100_scale10_v3.csv\",\n",
    "    \"steps100_scale15_v3.csv\",\n",
    "]\n",
    "model_exp = [\n",
    "    \"steps100_scale1_v2.csv\", # v2 is without cfg -> only scale 1 sensible\n",
    "    \"steps100_scale10_v3.csv\",\n",
    "    \"steps100_scale10_v3_strat.csv\",\n",
    "]\n",
    "\n",
    "for exp in step_exp:\n",
    "    print(exp[:-4])\n",
    "    df = pd.read_csv(os.path.join(exp_dir, exp))\n",
    "\n",
    "    sklearn_args = prepare_for_sklearn(df)\n",
    "\n",
    "    # micro and macro use max detection conf for one file and dtetected class\n",
    "    macro = get_macro_ap(df) \n",
    "    \n",
    "    # questionalble as ap is also calculated over classes thet are in detections but not files\n",
    "    micro = average_precision_score(**sklearn_args, average=\"micro\")\n",
    "\n",
    "    # over all detections\n",
    "    subset_mean_ap = mean_ap_subset(df)    \n",
    "    mean_ap_score = mean_ap(df)\n",
    "    \n",
    "    print(f\"mAP: {mean_ap_score:.4f}\")\n",
    "    print(f\"subset mAP: {subset_mean_ap:.4f}\")\n",
    "    print(f\"sklearn macro ap: {macro:.4f}\")\n",
    "    print(f\"sklearn micro ap: {micro:.4f}\")\n",
    "    print()\n"
   ]
  },
  {
   "cell_type": "code",
   "execution_count": 75,
   "id": "229f85bc-7b7c-4b68-b00e-408c2aa949bf",
   "metadata": {},
   "outputs": [
    {
     "name": "stdout",
     "output_type": "stream",
     "text": [
      "mAP: 0.5446\n",
      "mAP over max: 0.4442\n",
      "subset mAP: 0.1426\n",
      "subset mAP over max: 0.1819\n",
      "macro: 0.2210\n",
      "micro: 0.1433\n"
     ]
    }
   ],
   "source": [
    "df2 = df.groupby(by=['detected_sci_name', 'file', 'sci_name'], as_index=False).max()\n",
    "\n",
    "print(f\"mAP: {mean_ap(df):.4f}\")\n",
    "print(f\"mAP over max: {mean_ap(df2):.4f}\")\n",
    "print(f\"subset mAP: {mean_ap_subset(df):.4f}\")\n",
    "print(f\"subset mAP over max: {mean_ap_subset(df2):.4f}\")\n",
    "print(f\"macro: {get_macro_ap(df):.4f}\") # == macro over max\n",
    "print(f\"micro: {average_precision_score(**prepare_for_sklearn(df), average='micro'):.4f}\") # == micro over max"
   ]
  },
  {
   "cell_type": "code",
   "execution_count": 22,
   "id": "e9d5e89a-097b-4e10-9d4f-da9bd15091bb",
   "metadata": {},
   "outputs": [
    {
     "name": "stderr",
     "output_type": "stream",
     "text": [
      "100%|██████████| 6/6 [00:12<00:00,  2.12s/it]\n"
     ]
    }
   ],
   "source": [
    "exp_dir = \"/data/tests/analysed\"\n",
    "steps = [25, 50, 100, 200, 400, 800]\n",
    "macro_ap_steps = []\n",
    "for step in tqdm(steps):\n",
    "    df = pd.read_csv(os.path.join(exp_dir, f\"steps{step}_scale5_v3.csv\"))\n",
    "    macro = get_macro_ap(df) \n",
    "    macro_ap_steps.append(macro)\n"
   ]
  },
  {
   "cell_type": "code",
   "execution_count": 23,
   "id": "a0381e90-7661-4d2b-a32e-dc3271b048e8",
   "metadata": {},
   "outputs": [
    {
     "name": "stdout",
     "output_type": "stream",
     "text": [
      "[0.2041610048833833, 0.20028224244355655, 0.2122214203514063, 0.20778231366157532, 0.2210294278969043, 0.21007226091598685]\n"
     ]
    },
    {
     "data": {
      "image/png": "[encoded data removed]",
      "text/plain": [
       "<Figure size 640x480 with 1 Axes>"
      ]
     },
     "metadata": {},
     "output_type": "display_data"
    }
   ],
   "source": [
    "print(macro_ap_steps)\n",
    "ax = sns.scatterplot(x=steps, y=macro_ap_steps)\n",
    "plt.show()"
   ]
  },
  {
   "cell_type": "code",
   "execution_count": 26,
   "id": "7ee44248-b0b4-4c1c-bed0-168ef4245606",
   "metadata": {},
   "outputs": [
    {
     "name": "stderr",
     "output_type": "stream",
     "text": [
      "100%|██████████| 5/5 [00:09<00:00,  1.99s/it]\n"
     ]
    }
   ],
   "source": [
    "exp_dir = \"/data/tests/analysed\"\n",
    "scales = [1, 2.5, 5, 10, 15]\n",
    "macro_ap_scale = []\n",
    "for scale in tqdm(scales):\n",
    "    scale_str = str(scale).replace(\".\", \",\")\n",
    "    df = pd.read_csv(os.path.join(exp_dir, f\"steps100_scale{scale_str}_v3.csv\"))\n",
    "    macro = get_macro_ap(df) \n",
    "    macro_ap_scale.append(macro)"
   ]
  },
  {
   "cell_type": "code",
   "execution_count": 31,
   "id": "efb64345-25e6-4570-8fcf-92642f9fd168",
   "metadata": {},
   "outputs": [
    {
     "name": "stdout",
     "output_type": "stream",
     "text": [
      "[0.06647889912992105, 0.18017816193926264, 0.2122214203514063, 0.13687974636240047, 0.07997132459170762]\n"
     ]
    },
    {
     "data": {
      "image/png": "[encoded data removed]",
      "text/plain": [
       "<Figure size 640x480 with 1 Axes>"
      ]
     },
     "metadata": {},
     "output_type": "display_data"
    }
   ],
   "source": [
    "print(macro_ap_scale)\n",
    "sns.scatterplot(x=scales, y=macro_ap_scale)\n",
    "sns.lineplot(x=scales, y=macro_ap_scale)\n",
    "plt.show()"
   ]
  },
  {
   "cell_type": "code",
   "execution_count": null,
   "id": "fd0b4549-2fa4-4026-a13a-32f7114be01c",
   "metadata": {},
   "outputs": [],
   "source": [
    "data_dir = \"/data/tests/generated\"\n",
    "step_exp = [\n",
    "    \"steps25_scale5_v3\",\n",
    "    \"steps50_scale5_v3\",\n",
    "    \"steps100_scale5_v3\",\n",
    "    \"steps200_scale5_v3\",\n",
    "    \"steps400_scale5_v3\",\n",
    "    \"steps800_scale5_v3\",\n",
    "]\n",
    "scale_exp = [\n",
    "    \"steps100_scale1_v3\",\n",
    "    \"steps100_scale2,5_v3\",\n",
    "    \"steps100_scale5_v3\",\n",
    "    \"steps100_scale10_v3\",\n",
    "    \"steps100_scale15_v3\",\n",
    "]\n",
    "model_exp = [\n",
    "    \"steps100_scale1_v2\",\n",
    "    \"steps100_scale10_v2\",\n",
    "    \"steps100_scale10_v3\",\n",
    "    \"steps100_scale10_v3_strat\",\n",
    "]\n",
    "\n",
    "audios = os.listdir(os.path.join(data_dir, \"steps100_scale5_v3\"))\n",
    "for f in audios[:5]:\n",
    "    print(f)\n",
    "    for exp in step_exp:\n",
    "        print(exp)\n",
    "        display(Audio(filename=os.path.join(data_dir, exp, f)))"
   ]
  },
  {
   "cell_type": "code",
   "execution_count": null,
   "id": "96b09322-945b-49cc-8cea-9bf2d46b63ac",
   "metadata": {},
   "outputs": [],
   "source": [
    "#for exp in experiments:\n",
    "    #print(exp[:-4])\n",
    "    #\n",
    "    #df = pd.read_csv(os.path.join(exp_dir, exp))\n",
    "    #score = average_precision_score(y_true=y_true, y_score=y_score)\n",
    "    #print(f\"cds ap score: {score:.4f}\")\n",
    "    #score = roc_auc_score(y_true=y_true, y_score=y_score)\n",
    "    #print(f\"cds auroc score: {score:.4f}\")\n",
    "    #print(\"# detections @0.1: \", len(df))\n",
    "    #print(f\"mean conf among correct @0.1: {y_score[y_true].mean():.4f}\")\n",
    "    #print(\"# correct @0.1: \", y_true.sum())\n",
    "    #detection = y_score > threshold\n",
    "    #print(f\"acc @0.1: {y_true.mean():.4f}\")\n",
    "    #print(f\"acc @0.5: {y_true[detection].mean():.4f}\")"
   ]
  }
 ],
 "metadata": {
  "kernelspec": {
   "display_name": "Python 3 (ipykernel)",
   "language": "python",
   "name": "python3"
  },
  "language_info": {
   "codemirror_mode": {
    "name": "ipython",
    "version": 3
   },
   "file_extension": ".py",
   "mimetype": "text/x-python",
   "name": "python",
   "nbconvert_exporter": "python",
   "pygments_lexer": "ipython3",
   "version": "3.10.13"
  }
 },
 "nbformat": 4,
 "nbformat_minor": 5
}
