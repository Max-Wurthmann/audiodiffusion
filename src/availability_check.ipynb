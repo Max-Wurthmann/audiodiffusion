{
 "cells": [
  {
   "cell_type": "code",
   "execution_count": 1,
   "id": "8b03264c-02ea-4283-ab41-fcdbcba27a9b",
   "metadata": {
    "tags": []
   },
   "outputs": [],
   "source": [
    "import pandas as pd\n",
    "import os\n",
    "from pathlib import Path\n",
    "from glob import glob\n",
    "from tqdm import tqdm\n",
    "import torch\n",
    "from torchaudio import load, info\n",
    "from datasets import Dataset\n",
    "from IPython.display import Audio\n",
    "import subprocess"
   ]
  },
  {
   "cell_type": "code",
   "execution_count": 2,
   "id": "6a855a44-e6ef-4a7c-8a47-3dd1e7b76b96",
   "metadata": {
    "tags": []
   },
   "outputs": [],
   "source": [
    "data_dir = Path(\"/data/xeno-canto\")\n",
    "mp3_dir = data_dir / \"xeno_canto_full\"\n",
    "wav_dir = data_dir / \"xeno_canto_full_32000\"\n",
    "reload_dir = Path(\"/data/reloaded_corr\")\n",
    "\n",
    "sr = 32000\n",
    "max_frames = 5 * 60 * sr"
   ]
  },
  {
   "cell_type": "code",
   "execution_count": 3,
   "id": "c83686cd-596b-4223-b98c-01419c4e6ccf",
   "metadata": {
    "tags": []
   },
   "outputs": [
    {
     "name": "stderr",
     "output_type": "stream",
     "text": [
      "Loading cached processed dataset at /data/Max_workspace/meta_xeno_canto/cache-6b5331f568fbd550.arrow\n"
     ]
    },
    {
     "data": {
      "text/plain": [
       "Dataset({\n",
       "    features: ['file', 'label', 'num_frames', 'num_channels'],\n",
       "    num_rows: 681414\n",
       "})"
      ]
     },
     "execution_count": 3,
     "metadata": {},
     "output_type": "execute_result"
    }
   ],
   "source": [
    "metadata = Dataset.load_from_disk(\"meta_xeno_canto\")\n",
    "training_data = metadata.filter(lambda rec: rec[\"num_frames\"] <= max_frames).select_columns([\"file\", \"label\"])\n",
    "metadata"
   ]
  },
  {
   "cell_type": "code",
   "execution_count": 12,
   "id": "6f51b8c0-e1a8-47c2-976d-347b1f9c0f7c",
   "metadata": {
    "tags": []
   },
   "outputs": [
    {
     "name": "stderr",
     "output_type": "stream",
     "text": [
      "Loading cached processed dataset at /data/Max_workspace/meta_xeno_canto/cache-a35e87f04add1ee7.arrow\n"
     ]
    },
    {
     "data": {
      "text/plain": [
       "{'file': '/data/xeno-canto/xeno_canto_full_32000/Tyto tenebricosa/XC536934.wav',\n",
       " 'label': 'A Tyto tenebricosa was recorded in Australia in March at morning. The sound is described as call. The soundquality is 3 out of 5.',\n",
       " 'num_frames': 4121359,\n",
       " 'num_channels': 3}"
      ]
     },
     "execution_count": 12,
     "metadata": {},
     "output_type": "execute_result"
    }
   ],
   "source": [
    "metadata.filter(lambda rec: rec[\"num_channels\"] > 2)[0]"
   ]
  },
  {
   "cell_type": "code",
   "execution_count": 19,
   "id": "d7bb7cea-b8d5-4bd2-8a7d-c6dd5fa0c75f",
   "metadata": {
    "tags": []
   },
   "outputs": [
    {
     "name": "stderr",
     "output_type": "stream",
     "text": [
      "Loading cached processed dataset at /data/Max_workspace/meta_xeno_canto/cache-3f3855f11b6cf7a8.arrow\n"
     ]
    }
   ],
   "source": [
    "two_channel_files = metadata.filter(lambda rec: rec[\"num_channels\"] == 2)[\"file\"]"
   ]
  },
  {
   "cell_type": "code",
   "execution_count": 21,
   "id": "4764865b-a8cf-48c7-88e5-b83bb7d77fa6",
   "metadata": {
    "tags": []
   },
   "outputs": [
    {
     "name": "stdout",
     "output_type": "stream",
     "text": [
      "torch.Size([2, 148794])\n"
     ]
    }
   ],
   "source": [
    "waveform, sr = load(two_channel_files[0])\n",
    "print(waveform.shape)"
   ]
  },
  {
   "cell_type": "markdown",
   "id": "356fb92d-ad31-4b6e-8350-6ed76968977c",
   "metadata": {},
   "source": [
    "### Old Code"
   ]
  },
  {
   "cell_type": "code",
   "execution_count": 5,
   "id": "1236bcc3-996c-4640-8d34-6f4f8526e197",
   "metadata": {
    "collapsed": true,
    "jupyter": {
     "outputs_hidden": true
    },
    "tags": []
   },
   "outputs": [
    {
     "ename": "PermissionError",
     "evalue": "Tried to overwrite /data/Max_workspace/meta_xeno_canto but a dataset can't overwrite itself.",
     "output_type": "error",
     "traceback": [
      "\u001b[0;31m---------------------------------------------------------------------------\u001b[0m",
      "\u001b[0;31mPermissionError\u001b[0m                           Traceback (most recent call last)",
      "\u001b[0;32m/tmp/ipykernel_242131/541652026.py\u001b[0m in \u001b[0;36m<module>\u001b[0;34m\u001b[0m\n\u001b[0;32m----> 1\u001b[0;31m \u001b[0mmetadata\u001b[0m\u001b[0;34m.\u001b[0m\u001b[0msave_to_disk\u001b[0m\u001b[0;34m(\u001b[0m\u001b[0;34m\"meta_xeno_canto\"\u001b[0m\u001b[0;34m,\u001b[0m \u001b[0mmax_shard_size\u001b[0m\u001b[0;34m=\u001b[0m\u001b[0;34m\"100MB\"\u001b[0m\u001b[0;34m)\u001b[0m\u001b[0;34m\u001b[0m\u001b[0;34m\u001b[0m\u001b[0m\n\u001b[0m",
      "\u001b[0;32m~/.local/lib/python3.7/site-packages/datasets/arrow_dataset.py\u001b[0m in \u001b[0;36msave_to_disk\u001b[0;34m(self, dataset_path, fs, max_shard_size, num_shards, num_proc, storage_options)\u001b[0m\n\u001b[1;32m   1456\u001b[0m             \u001b[0;32mif\u001b[0m \u001b[0mPath\u001b[0m\u001b[0;34m(\u001b[0m\u001b[0mdataset_path\u001b[0m\u001b[0;34m)\u001b[0m\u001b[0;34m.\u001b[0m\u001b[0mresolve\u001b[0m\u001b[0;34m(\u001b[0m\u001b[0;34m)\u001b[0m \u001b[0;32min\u001b[0m \u001b[0mparent_cache_files_paths\u001b[0m\u001b[0;34m:\u001b[0m\u001b[0;34m\u001b[0m\u001b[0;34m\u001b[0m\u001b[0m\n\u001b[1;32m   1457\u001b[0m                 raise PermissionError(\n\u001b[0;32m-> 1458\u001b[0;31m                     \u001b[0;34mf\"Tried to overwrite {Path(dataset_path).resolve()} but a dataset can't overwrite itself.\"\u001b[0m\u001b[0;34m\u001b[0m\u001b[0;34m\u001b[0m\u001b[0m\n\u001b[0m\u001b[1;32m   1459\u001b[0m                 )\n\u001b[1;32m   1460\u001b[0m         \u001b[0;32melse\u001b[0m\u001b[0;34m:\u001b[0m\u001b[0;34m\u001b[0m\u001b[0;34m\u001b[0m\u001b[0m\n",
      "\u001b[0;31mPermissionError\u001b[0m: Tried to overwrite /data/Max_workspace/meta_xeno_canto but a dataset can't overwrite itself."
     ]
    }
   ],
   "source": [
    "metadata.save_to_disk(\"meta_xeno_canto\", max_shard_size=\"100MB\")"
   ]
  },
  {
   "cell_type": "code",
   "execution_count": 23,
   "id": "69766937-96b2-4600-83ff-2221c1ad0f01",
   "metadata": {
    "tags": []
   },
   "outputs": [
    {
     "name": "stderr",
     "output_type": "stream",
     "text": [
      "Loading cached processed dataset at /data/Max_workspace/metadata/cache-f7c70da52078d071_*_of_00008.arrow\n"
     ]
    }
   ],
   "source": [
    "def mapping(record):\n",
    "    file = record[\"file\"]\n",
    "    file = file.replace(str(mp3_dir), str(wav_dir))\n",
    "    file = file.replace(str(reload_dir), str(wav_dir))\n",
    "    file = file.replace(\".mp3\", \".wav\")\n",
    "    \n",
    "    return dict(file = file)\n",
    "        \n",
    "metadata = metadata.map(mapping, num_proc=8)"
   ]
  },
  {
   "cell_type": "code",
   "execution_count": 33,
   "id": "868332ca-c8e2-495a-9157-97e68c1b0f6f",
   "metadata": {
    "tags": []
   },
   "outputs": [],
   "source": [
    "metadata = metadata.add_column(\"num_frames\", metrics_ds[\"num_frames\"])\n",
    "metadata = metadata.add_column(\"num_channels\", metrics_ds[\"num_channels\"])"
   ]
  },
  {
   "cell_type": "code",
   "execution_count": 192,
   "id": "6cc0ef86-9933-4a20-b378-fb4bfe8f7486",
   "metadata": {
    "tags": []
   },
   "outputs": [],
   "source": [
    "def ffmpeg_call(file_name, out_dir, sample_rate=44100, in_dir=mp3_dir):\n",
    "    \n",
    "    in_file = Path(in_dir) / file_name\n",
    "    out_file = Path(out_dir) / file_name\n",
    "    \n",
    "    # create target dir if not exists\n",
    "    out_file.parent.mkdir(parents=True, exist_ok=True)\n",
    "    \n",
    "    result = subprocess.run([\"ffmpeg\", \n",
    "                             \"-i\", str(in_file), \n",
    "                             \"-ar\", str(sample_rate),\n",
    "                             str(out_file)],\n",
    "                            stdout = subprocess.DEVNULL, #supress regular output, errors are still printed\n",
    "                            stderr = subprocess.STDOUT,\n",
    "                           )\n",
    "\n",
    "    return dict(ret_code = result.returncode)"
   ]
  },
  {
   "cell_type": "code",
   "execution_count": 202,
   "id": "b11a702e-d98e-43c6-99d5-ff966d472742",
   "metadata": {
    "tags": []
   },
   "outputs": [
    {
     "data": {
      "text/plain": [
       "0"
      ]
     },
     "execution_count": 202,
     "metadata": {},
     "output_type": "execute_result"
    }
   ],
   "source": [
    "return_codes = result.with_format(\"pandas\")[\"ret_code\"]\n",
    "return_codes.max() # 0 menas all successful"
   ]
  },
  {
   "cell_type": "code",
   "execution_count": 196,
   "id": "babf0504-5f7b-4b6b-9dad-548cf1ef98d9",
   "metadata": {
    "tags": []
   },
   "outputs": [
    {
     "name": "stderr",
     "output_type": "stream",
     "text": [
      "                                                                              \r"
     ]
    }
   ],
   "source": [
    "result = corrupt_ds.map(lambda x: ffmpeg_call(x[\"file\"], out_dir=reload_dir), num_proc=8)"
   ]
  },
  {
   "cell_type": "code",
   "execution_count": 3,
   "id": "94eabaa0-31d0-4537-8924-3a83ce58d847",
   "metadata": {
    "tags": []
   },
   "outputs": [],
   "source": [
    "meta_data_file = \"xeno_canto_full_combined_durations.json\"\n",
    "dataset = pd.read_json(meta_data_file)\n",
    "df = dataset[[\"file\", \"available\"]]"
   ]
  },
  {
   "cell_type": "code",
   "execution_count": 64,
   "id": "338be2b2-97d7-44ea-817c-400690da870b",
   "metadata": {
    "tags": []
   },
   "outputs": [
    {
     "ename": "KeyboardInterrupt",
     "evalue": "",
     "output_type": "error",
     "traceback": [
      "\u001b[0;31m---------------------------------------------------------------------------\u001b[0m",
      "\u001b[0;31mKeyboardInterrupt\u001b[0m                         Traceback (most recent call last)",
      "\u001b[0;32m/tmp/ipykernel_392/3362718931.py\u001b[0m in \u001b[0;36m<module>\u001b[0;34m\u001b[0m\n\u001b[1;32m      9\u001b[0m         \u001b[0;32mreturn\u001b[0m \u001b[0;32mTrue\u001b[0m\u001b[0;34m\u001b[0m\u001b[0;34m\u001b[0m\u001b[0m\n\u001b[1;32m     10\u001b[0m \u001b[0;34m\u001b[0m\u001b[0m\n\u001b[0;32m---> 11\u001b[0;31m \u001b[0mresult\u001b[0m \u001b[0;34m=\u001b[0m \u001b[0mdf\u001b[0m\u001b[0;34m.\u001b[0m\u001b[0mfile\u001b[0m\u001b[0;34m.\u001b[0m\u001b[0mapply\u001b[0m\u001b[0;34m(\u001b[0m\u001b[0mcheck_available\u001b[0m\u001b[0;34m)\u001b[0m\u001b[0;34m\u001b[0m\u001b[0;34m\u001b[0m\u001b[0m\n\u001b[0m",
      "\u001b[0;32m/opt/conda/lib/python3.7/site-packages/pandas/core/series.py\u001b[0m in \u001b[0;36mapply\u001b[0;34m(self, func, convert_dtype, args, **kwargs)\u001b[0m\n\u001b[1;32m   4355\u001b[0m         \u001b[0mdtype\u001b[0m\u001b[0;34m:\u001b[0m \u001b[0mfloat64\u001b[0m\u001b[0;34m\u001b[0m\u001b[0;34m\u001b[0m\u001b[0m\n\u001b[1;32m   4356\u001b[0m         \"\"\"\n\u001b[0;32m-> 4357\u001b[0;31m         \u001b[0;32mreturn\u001b[0m \u001b[0mSeriesApply\u001b[0m\u001b[0;34m(\u001b[0m\u001b[0mself\u001b[0m\u001b[0;34m,\u001b[0m \u001b[0mfunc\u001b[0m\u001b[0;34m,\u001b[0m \u001b[0mconvert_dtype\u001b[0m\u001b[0;34m,\u001b[0m \u001b[0margs\u001b[0m\u001b[0;34m,\u001b[0m \u001b[0mkwargs\u001b[0m\u001b[0;34m)\u001b[0m\u001b[0;34m.\u001b[0m\u001b[0mapply\u001b[0m\u001b[0;34m(\u001b[0m\u001b[0;34m)\u001b[0m\u001b[0;34m\u001b[0m\u001b[0;34m\u001b[0m\u001b[0m\n\u001b[0m\u001b[1;32m   4358\u001b[0m \u001b[0;34m\u001b[0m\u001b[0m\n\u001b[1;32m   4359\u001b[0m     def _reduce(\n",
      "\u001b[0;32m/opt/conda/lib/python3.7/site-packages/pandas/core/apply.py\u001b[0m in \u001b[0;36mapply\u001b[0;34m(self)\u001b[0m\n\u001b[1;32m   1041\u001b[0m             \u001b[0;32mreturn\u001b[0m \u001b[0mself\u001b[0m\u001b[0;34m.\u001b[0m\u001b[0mapply_str\u001b[0m\u001b[0;34m(\u001b[0m\u001b[0;34m)\u001b[0m\u001b[0;34m\u001b[0m\u001b[0;34m\u001b[0m\u001b[0m\n\u001b[1;32m   1042\u001b[0m \u001b[0;34m\u001b[0m\u001b[0m\n\u001b[0;32m-> 1043\u001b[0;31m         \u001b[0;32mreturn\u001b[0m \u001b[0mself\u001b[0m\u001b[0;34m.\u001b[0m\u001b[0mapply_standard\u001b[0m\u001b[0;34m(\u001b[0m\u001b[0;34m)\u001b[0m\u001b[0;34m\u001b[0m\u001b[0;34m\u001b[0m\u001b[0m\n\u001b[0m\u001b[1;32m   1044\u001b[0m \u001b[0;34m\u001b[0m\u001b[0m\n\u001b[1;32m   1045\u001b[0m     \u001b[0;32mdef\u001b[0m \u001b[0magg\u001b[0m\u001b[0;34m(\u001b[0m\u001b[0mself\u001b[0m\u001b[0;34m)\u001b[0m\u001b[0;34m:\u001b[0m\u001b[0;34m\u001b[0m\u001b[0;34m\u001b[0m\u001b[0m\n",
      "\u001b[0;32m/opt/conda/lib/python3.7/site-packages/pandas/core/apply.py\u001b[0m in \u001b[0;36mapply_standard\u001b[0;34m(self)\u001b[0m\n\u001b[1;32m   1099\u001b[0m                     \u001b[0mvalues\u001b[0m\u001b[0;34m,\u001b[0m\u001b[0;34m\u001b[0m\u001b[0;34m\u001b[0m\u001b[0m\n\u001b[1;32m   1100\u001b[0m                     \u001b[0mf\u001b[0m\u001b[0;34m,\u001b[0m  \u001b[0;31m# type: ignore[arg-type]\u001b[0m\u001b[0;34m\u001b[0m\u001b[0;34m\u001b[0m\u001b[0m\n\u001b[0;32m-> 1101\u001b[0;31m                     \u001b[0mconvert\u001b[0m\u001b[0;34m=\u001b[0m\u001b[0mself\u001b[0m\u001b[0;34m.\u001b[0m\u001b[0mconvert_dtype\u001b[0m\u001b[0;34m,\u001b[0m\u001b[0;34m\u001b[0m\u001b[0;34m\u001b[0m\u001b[0m\n\u001b[0m\u001b[1;32m   1102\u001b[0m                 )\n\u001b[1;32m   1103\u001b[0m \u001b[0;34m\u001b[0m\u001b[0m\n",
      "\u001b[0;32m/opt/conda/lib/python3.7/site-packages/pandas/_libs/lib.pyx\u001b[0m in \u001b[0;36mpandas._libs.lib.map_infer\u001b[0;34m()\u001b[0m\n",
      "\u001b[0;32m/tmp/ipykernel_392/3362718931.py\u001b[0m in \u001b[0;36mcheck_available\u001b[0;34m(file)\u001b[0m\n\u001b[1;32m      3\u001b[0m     \u001b[0;32mif\u001b[0m \u001b[0;32mnot\u001b[0m \u001b[0mos\u001b[0m\u001b[0;34m.\u001b[0m\u001b[0mpath\u001b[0m\u001b[0;34m.\u001b[0m\u001b[0misfile\u001b[0m\u001b[0;34m(\u001b[0m\u001b[0mfile\u001b[0m\u001b[0;34m)\u001b[0m\u001b[0;34m:\u001b[0m\u001b[0;34m\u001b[0m\u001b[0;34m\u001b[0m\u001b[0m\n\u001b[1;32m      4\u001b[0m         \u001b[0;32mreturn\u001b[0m \u001b[0;32mFalse\u001b[0m\u001b[0;34m\u001b[0m\u001b[0;34m\u001b[0m\u001b[0m\n\u001b[0;32m----> 5\u001b[0;31m     \u001b[0;32melif\u001b[0m \u001b[0mos\u001b[0m\u001b[0;34m.\u001b[0m\u001b[0mpath\u001b[0m\u001b[0;34m.\u001b[0m\u001b[0mgetsize\u001b[0m\u001b[0;34m(\u001b[0m\u001b[0mfile\u001b[0m\u001b[0;34m)\u001b[0m \u001b[0;34m==\u001b[0m \u001b[0;36m0\u001b[0m\u001b[0;34m:\u001b[0m\u001b[0;34m\u001b[0m\u001b[0;34m\u001b[0m\u001b[0m\n\u001b[0m\u001b[1;32m      6\u001b[0m         \u001b[0mprint\u001b[0m\u001b[0;34m(\u001b[0m\u001b[0;34mf\"size 0 file @{file}\"\u001b[0m\u001b[0;34m)\u001b[0m\u001b[0;34m\u001b[0m\u001b[0;34m\u001b[0m\u001b[0m\n\u001b[1;32m      7\u001b[0m         \u001b[0;32mreturn\u001b[0m \u001b[0;32mFalse\u001b[0m\u001b[0;34m\u001b[0m\u001b[0;34m\u001b[0m\u001b[0m\n",
      "\u001b[0;32m/opt/conda/lib/python3.7/genericpath.py\u001b[0m in \u001b[0;36mgetsize\u001b[0;34m(filename)\u001b[0m\n\u001b[1;32m     48\u001b[0m \u001b[0;32mdef\u001b[0m \u001b[0mgetsize\u001b[0m\u001b[0;34m(\u001b[0m\u001b[0mfilename\u001b[0m\u001b[0;34m)\u001b[0m\u001b[0;34m:\u001b[0m\u001b[0;34m\u001b[0m\u001b[0;34m\u001b[0m\u001b[0m\n\u001b[1;32m     49\u001b[0m     \u001b[0;34m\"\"\"Return the size of a file, reported by os.stat().\"\"\"\u001b[0m\u001b[0;34m\u001b[0m\u001b[0;34m\u001b[0m\u001b[0m\n\u001b[0;32m---> 50\u001b[0;31m     \u001b[0;32mreturn\u001b[0m \u001b[0mos\u001b[0m\u001b[0;34m.\u001b[0m\u001b[0mstat\u001b[0m\u001b[0;34m(\u001b[0m\u001b[0mfilename\u001b[0m\u001b[0;34m)\u001b[0m\u001b[0;34m.\u001b[0m\u001b[0mst_size\u001b[0m\u001b[0;34m\u001b[0m\u001b[0;34m\u001b[0m\u001b[0m\n\u001b[0m\u001b[1;32m     51\u001b[0m \u001b[0;34m\u001b[0m\u001b[0m\n\u001b[1;32m     52\u001b[0m \u001b[0;34m\u001b[0m\u001b[0m\n",
      "\u001b[0;31mKeyboardInterrupt\u001b[0m: "
     ]
    }
   ],
   "source": [
    "def check_available(file):\n",
    "    file = mp3_dir / file\n",
    "    if not os.path.isfile(file):\n",
    "        return False\n",
    "    elif os.path.getsize(file) == 0:\n",
    "        print(f\"size 0 file @{file}\")\n",
    "        return False\n",
    "    else:\n",
    "        return True\n",
    "\n",
    "result = df.file.apply(check_available)"
   ]
  },
  {
   "cell_type": "code",
   "execution_count": 19,
   "id": "8156a88f-470e-4cea-9f95-45c485d21795",
   "metadata": {
    "tags": []
   },
   "outputs": [
    {
     "data": {
      "text/plain": [
       "27"
      ]
     },
     "execution_count": 19,
     "metadata": {},
     "output_type": "execute_result"
    }
   ],
   "source": [
    "(result != df.available).sum()"
   ]
  },
  {
   "cell_type": "code",
   "execution_count": 24,
   "id": "ecb0440f-f9e8-460a-b5b8-beaac9687442",
   "metadata": {
    "tags": []
   },
   "outputs": [
    {
     "name": "stderr",
     "output_type": "stream",
     "text": [
      "100%|██████████| 691930/691930 [00:29<00:00, 23858.43it/s]"
     ]
    },
    {
     "name": "stdout",
     "output_type": "stream",
     "text": [
      "[]\n",
      "['Clangula hyemalis/XC195038.mp3', 'Pyrrhula pyrrhula/XC456932.mp3', 'Turdus merula/XC456971.mp3', 'Acrocephalus palustris/XC456981.mp3', 'Spinus spinus/XC456985.mp3', 'Periparus ater/XC457004.mp3', 'Emberiza schoeniclus/XC459261.mp3', 'Phylloscopus collybita/XC465779.mp3', 'Phylloscopus trochilus/XC465780.mp3', 'Anthus trivialis/XC465781.mp3', 'Prunella modularis/XC560551.mp3', 'Regulus regulus/XC594591.mp3', 'Spinus spinus/XC594598.mp3', 'Aegithalos caudatus/XC594602.mp3', 'Henicorhina leucophrys/XC626095.mp3', '_Unknown_/XC626504.mp3', '_Unknown_/XC629687.mp3', 'Lanius borealis/XC632264.mp3', 'Charadrius vociferus/XC652295.mp3', 'Geothlypis tolmiei/XC656203.mp3', 'Pheucticus melanocephalus/XC656229.mp3', 'Bonasa umbellus/XC657341.mp3', 'Empidonax minimus/XC657736.mp3', 'Contopus sordidulus/XC657784.mp3', 'Vireo olivaceus/XC658285.mp3', 'Cardellina pusilla/XC658291.mp3', 'Haliaeetus leucocephalus/XC698517.mp3']\n"
     ]
    },
    {
     "name": "stderr",
     "output_type": "stream",
     "text": [
      "\n"
     ]
    }
   ],
   "source": [
    "actually_available = [] #false-negative\n",
    "not_actually_available = [] #false-positive\n",
    "for i in tqdm(df.index):\n",
    "    available = df.loc[i, \"available\"]\n",
    "    file = df.loc[i, \"file\"]\n",
    "    actual = result.loc[i]\n",
    "    if available and not actual:\n",
    "        not_actually_available.append(file)\n",
    "    if not available and actual:\n",
    "        actually_available.append(file)\n",
    "        \n",
    "print(not_actually_available)\n",
    "print(actually_available)"
   ]
  },
  {
   "cell_type": "markdown",
   "id": "12ebd526-b47b-44ab-bd24-b49b896b5d79",
   "metadata": {},
   "source": [
    "note: recursive file count using\n",
    "```console\n",
    "find \"xeno_canto_full\" -type f | wc -l\n",
    "```\n",
    "returned 681441"
   ]
  },
  {
   "cell_type": "code",
   "execution_count": 21,
   "id": "a381cbfc-fe56-4fc5-a2f1-a49482254eeb",
   "metadata": {
    "tags": []
   },
   "outputs": [
    {
     "name": "stdout",
     "output_type": "stream",
     "text": [
      "(691930, 3)\n",
      "681414\n"
     ]
    }
   ],
   "source": [
    "print(df.shape)\n",
    "print(df.available.sum())"
   ]
  }
 ],
 "metadata": {
  "kernelspec": {
   "display_name": "Python 3 (ipykernel)",
   "language": "python",
   "name": "python3"
  },
  "language_info": {
   "codemirror_mode": {
    "name": "ipython",
    "version": 3
   },
   "file_extension": ".py",
   "mimetype": "text/x-python",
   "name": "python",
   "nbconvert_exporter": "python",
   "pygments_lexer": "ipython3",
   "version": "3.10.13"
  }
 },
 "nbformat": 4,
 "nbformat_minor": 5
}
