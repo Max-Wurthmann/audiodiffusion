{
 "cells": [
  {
   "cell_type": "code",
   "execution_count": null,
   "metadata": {},
   "outputs": [],
   "source": [
    "from datasets import Dataset, load_from_disk\n",
    "import pandas as pd\n",
    "import numpy as np\n",
    "from datetime import datetime, date\n",
    "from pathlib import Path\n",
    "import os\n",
    "from tempfile import TemporaryDirectory"
   ]
  },
  {
   "cell_type": "code",
   "execution_count": null,
   "metadata": {},
   "outputs": [],
   "source": [
    "data_dir = \"../../data/xeno_canto\"\n",
    "train_data_dir = \"../../data/training_data\""
   ]
  },
  {
   "cell_type": "code",
   "execution_count": null,
   "metadata": {},
   "outputs": [],
   "source": [
    "def save(dataset, path=data_dir):\n",
    "    path = Path(path)\n",
    "    with TemporaryDirectory() as temp_dir:\n",
    "        temp_dir = Path(temp_dir)\n",
    "        dataset.save_to_disk(temp_dir, max_shard_size=\"100MB\")\n",
    "        for file in path.glob(\"*\"):\n",
    "            os.remove(file)\n",
    "        path.rmdir()\n",
    "        temp_dir.rename(path)"
   ]
  },
  {
   "cell_type": "code",
   "execution_count": null,
   "metadata": {},
   "outputs": [],
   "source": [
    "def generate_and_save_train_data(data: Dataset, path=train_data_dir):\n",
    "    def filter_func(record):\n",
    "        # keep everything that meets all conditions\n",
    "        conditions = []\n",
    "        \n",
    "        # needs to bu <= 5 minutes long\n",
    "        conditions.append(record[\"duration\"] <= 300 if record[\"duration\"] is not None else True)\n",
    "        \n",
    "        # needs to be available\n",
    "        conditions.append(record[\"available\"])\n",
    "        \n",
    "        return all(conditions)\n",
    "    \n",
    "    # filter data\n",
    "    data = data.filter(filter_func)\n",
    "    # project data\n",
    "    data = data.select_columns([\"file\", \"sci_name\", \"duration\", \"simple_label\", \"natural_label\"])\n",
    "    # save data\n",
    "    save(data, path)\n",
    "    return data"
   ]
  },
  {
   "cell_type": "code",
   "execution_count": null,
   "metadata": {},
   "outputs": [
    {
     "data": {
      "text/plain": [
       "Dataset({\n",
       "    features: ['file', 'available', 'type', 'duration', 'date', 'elevation', 'name_eng', 'time_label', 'time', 'remarks', 'longitude', 'background', 'latitude', 'country', 'sci_name', 'simple_label', 'full_output', 'corrupt', 'natural_label'],\n",
       "    num_rows: 691930\n",
       "})"
      ]
     },
     "execution_count": 5,
     "metadata": {},
     "output_type": "execute_result"
    }
   ],
   "source": [
    "data = Dataset.load_from_disk(data_dir)\n",
    "data"
   ]
  },
  {
   "cell_type": "code",
   "execution_count": null,
   "metadata": {},
   "outputs": [],
   "source": [
    "data"
   ]
  },
  {
   "cell_type": "code",
   "execution_count": 27,
   "metadata": {},
   "outputs": [
    {
     "data": {
      "application/vnd.jupyter.widget-view+json": {
       "model_id": "66228bf22f1046fdb471b75c526e4cb2",
       "version_major": 2,
       "version_minor": 0
      },
      "text/plain": [
       "Map (num_proc=8):   0%|          | 0/691930 [00:00<?, ? examples/s]"
      ]
     },
     "metadata": {},
     "output_type": "display_data"
    }
   ],
   "source": [
    "def get_simple_label_from_record(record):\n",
    "    from datetime import datetime\n",
    "\n",
    "    name = record.get(\"sci_name\")\n",
    "    name = \"Unknown\" if name is None else name\n",
    "    \n",
    "    country = record.get(\"country\")\n",
    "    country = \"\" if country is None else country\n",
    "    \n",
    "    date = record.get(\"date\")\n",
    "    if date is not None:\n",
    "        date = datetime.fromisoformat(date)\n",
    "        calendar_week = date.strftime('week %V')\n",
    "        year = date.strftime('%Y')\n",
    "    else:\n",
    "        calendar_week = year = \"\"\n",
    "        \n",
    "     \n",
    "    time_label = record.get(\"time_label\")\n",
    "    time_label = \"\" if time_label is None else time_label\n",
    "    \n",
    "    duration = record.get(\"duration\")\n",
    "    duration = \"\" if duration is None else f\"{duration} seconds\"\n",
    "    \n",
    "    rating = record.get(\"remarks\").get(\"rating\")\n",
    "    rating = f\"{rating} of 5\"\n",
    "\n",
    "    call_types = record.get(\"type\")\n",
    "    \n",
    "    background_birds = [bird.get(\"name_sci\") for bird in record.get(\"background\")]\n",
    "\n",
    "    label = []\n",
    "\n",
    "    label.append(name)\n",
    "    label.append(time_label)\n",
    "    label.append(calendar_week)\n",
    "    label.append(year)\n",
    "    label.append(country)\n",
    "    label.append(duration)\n",
    "    label.append(rating)\n",
    "    label.extend(call_types)\n",
    "    label.extend(background_birds)\n",
    "\n",
    "    label = \"; \".join(label)\n",
    "    \n",
    "    return {\"simple_label\": label}\n",
    "\n",
    "if __name__ == \"__main__\":\n",
    "    data = data.map(get_simple_label_from_record, num_proc=8)"
   ]
  },
  {
   "cell_type": "markdown",
   "metadata": {},
   "source": [
    "### Testing label length"
   ]
  },
  {
   "cell_type": "code",
   "execution_count": 13,
   "metadata": {},
   "outputs": [
    {
     "name": "stderr",
     "output_type": "stream",
     "text": [
      "c:\\Users\\mxwur\\anaconda3\\envs\\bachelor\\lib\\site-packages\\transformers\\models\\t5\\tokenization_t5_fast.py:155: FutureWarning: This tokenizer was incorrectly instantiated with a model max length of 512 which will be corrected in Transformers v5.\n",
      "For now, this behavior is kept to avoid breaking backwards compatibility when padding/encoding with `truncation is True`.\n",
      "- Be aware that you SHOULD NOT rely on t5-base automatically truncating your input to 512 when padding/encoding.\n",
      "- If you want to encode/pad to sequences longer than 512 you can either instantiate this tokenizer with `model_max_length` or pass `max_length` when encoding/padding.\n",
      "- To avoid this warning, please instantiate this tokenizer with `model_max_length` set to your preferred value.\n",
      "  warnings.warn(\n"
     ]
    },
    {
     "data": {
      "application/vnd.jupyter.widget-view+json": {
       "model_id": "805946d10f9544cab9b8750169e9fba9",
       "version_major": 2,
       "version_minor": 0
      },
      "text/plain": [
       "Filter:   0%|          | 0/691930 [00:00<?, ? examples/s]"
      ]
     },
     "metadata": {},
     "output_type": "display_data"
    },
    {
     "data": {
      "application/vnd.jupyter.widget-view+json": {
       "model_id": "bb7e6f94e04c4860b9cbd69de8d0faf4",
       "version_major": 2,
       "version_minor": 0
      },
      "text/plain": [
       "Map:   0%|          | 0/665295 [00:00<?, ? examples/s]"
      ]
     },
     "metadata": {},
     "output_type": "display_data"
    },
    {
     "data": {
      "application/vnd.jupyter.widget-view+json": {
       "model_id": "850a2ee0523a4bc38a98a3fa11322080",
       "version_major": 2,
       "version_minor": 0
      },
      "text/plain": [
       "Map:   0%|          | 0/665295 [00:00<?, ? examples/s]"
      ]
     },
     "metadata": {},
     "output_type": "display_data"
    },
    {
     "name": "stdout",
     "output_type": "stream",
     "text": [
      "count    665295.000000\n",
      "mean         35.422464\n",
      "std          13.379283\n",
      "min          18.000000\n",
      "25%          28.000000\n",
      "50%          30.000000\n",
      "75%          38.000000\n",
      "max         257.000000\n",
      "Name: out, dtype: float64\n",
      "count    665295.000000\n",
      "mean         44.527987\n",
      "std          18.038706\n",
      "min          16.000000\n",
      "25%          34.000000\n",
      "50%          37.000000\n",
      "75%          51.000000\n",
      "max         324.000000\n",
      "Name: out, dtype: float64\n"
     ]
    }
   ],
   "source": [
    "from transformers import AutoTokenizer\n",
    "tokenizer = AutoTokenizer.from_pretrained(\"t5-base\")\n",
    "\n",
    "filtered = data.filter(lambda rec: rec[\"available\"] and rec[\"duration\"]<=300).select_columns([\"simple_label\", \"natural_label\"])\n",
    "simple_label_len = filtered.map(lambda rec: dict(out=len(tokenizer.encode(rec[\"simple_label\"])))).with_format(\"pandas\")[\"out\"]\n",
    "natural_label_len = filtered.map(lambda rec: dict(out=len(tokenizer.encode(rec[\"natural_label\"])))).with_format(\"pandas\")[\"out\"]\n",
    "\n",
    "print(simple_label_len.describe())\n",
    "print(natural_label_len.describe())"
   ]
  },
  {
   "cell_type": "code",
   "execution_count": 14,
   "metadata": {},
   "outputs": [
    {
     "name": "stdout",
     "output_type": "stream",
     "text": [
      "Relative\n",
      "% Simple labels with length over 64: 0.04775\n",
      "% Natural labels with length over 64: 0.12535\n",
      "% Simple labels with length over 128: 0.00064\n",
      "% Natural labels with length over 128: 0.00342\n",
      "% Simple labels with length over 256: 0.00000\n",
      "% Natural labels with length over 256: 0.00001\n",
      "Absolute\n",
      "# Simple labels with length over 64: 31768\n",
      "# Natural labels with length over 64: 83398\n",
      "# Simple labels with length over 128: 427\n",
      "# Natural labels with length over 128: 2275\n",
      "# Simple labels with length over 256: 1\n",
      "# Natural labels with length over 256: 5\n"
     ]
    }
   ],
   "source": [
    "print(\"Relative\")\n",
    "for length in [64, 128, 256]:\n",
    "    print(f\"% Simple labels with length over {length}: {(simple_label_len > length).mean():.5f}\")\n",
    "    print(f\"% Natural labels with length over {length}: {(natural_label_len > length).mean():.5f}\")\n",
    "\n",
    "print(\"Absolute\")\n",
    "for length in [64, 128, 256]:\n",
    "    print(f\"# Simple labels with length over {length}: {(simple_label_len > length).sum()}\")\n",
    "    print(f\"# Natural labels with length over {length}: {(natural_label_len > length).sum()}\")"
   ]
  },
  {
   "cell_type": "code",
   "execution_count": 51,
   "metadata": {},
   "outputs": [
    {
     "data": {
      "application/vnd.jupyter.widget-view+json": {
       "model_id": "a6a3c0d7199e4b5190a163d4212d6d68",
       "version_major": 2,
       "version_minor": 0
      },
      "text/plain": [
       "Map (num_proc=8):   0%|          | 0/691930 [00:00<?, ? examples/s]"
      ]
     },
     "metadata": {},
     "output_type": "display_data"
    }
   ],
   "source": [
    "def date_mapper(record):\n",
    "    from datetime import datetime\n",
    "    \n",
    "    date_str = record[\"date\"]\n",
    "    output_col = \"date\"\n",
    "    \n",
    "    try:\n",
    "        return {output_col: datetime.fromisoformat(date_str).date()}\n",
    "    except ValueError:\n",
    "        year_str, month_str, day_str = date_str.split(\"-\")\n",
    "        year = int(year_str)\n",
    "        month = int(month_str)\n",
    "        day = int(day_str)\n",
    "        if year == 0:\n",
    "            return {output_col: None}\n",
    "        if month == 0:\n",
    "            month = 1\n",
    "        if day == 0:\n",
    "            day = 1\n",
    "        \n",
    "        return {output_col: datetime(year, month, day).date()}\n",
    "    \n",
    "if __name__ == \"__main__\":\n",
    "    data = data.map(date_mapper, num_proc=8)"
   ]
  },
  {
   "cell_type": "code",
   "execution_count": 29,
   "metadata": {},
   "outputs": [
    {
     "data": {
      "application/vnd.jupyter.widget-view+json": {
       "model_id": "29cd7bd76f9543db80373947cf5880dd",
       "version_major": 2,
       "version_minor": 0
      },
      "text/plain": [
       "Map (num_proc=8):   0%|          | 0/691930 [00:00<?, ? examples/s]"
      ]
     },
     "metadata": {},
     "output_type": "display_data"
    }
   ],
   "source": [
    "def time_label_mapper(record):\n",
    "    from datetime import time as timeutil\n",
    "    \n",
    "    time_str = record[\"time\"]\n",
    "    if time_str is None:\n",
    "        return {\"time_label\": None}\n",
    "    \n",
    "    time = timeutil.fromisoformat(time_str)\n",
    "    hour = time.hour\n",
    "    if 5 <= hour < 12:\n",
    "        time_label = \"morning\"\n",
    "    elif 12 <= hour < 17:\n",
    "        time_label = \"afternoon\"\n",
    "    elif 17 <= hour < 21:\n",
    "        time_label = \"evening\"\n",
    "    else:\n",
    "        time_label = \"night\"\n",
    "    \n",
    "    return {\"time_label\": time_label}\n",
    "\n",
    "if __name__ == \"__main__\":\n",
    "    data = data.map(time_label_mapper, num_proc=8)"
   ]
  },
  {
   "cell_type": "code",
   "execution_count": 15,
   "metadata": {},
   "outputs": [
    {
     "data": {
      "application/vnd.jupyter.widget-view+json": {
       "model_id": "869ef4b791a64e81922938a65c8dcd1e",
       "version_major": 2,
       "version_minor": 0
      },
      "text/plain": [
       "Map (num_proc=8):   0%|          | 0/691930 [00:00<?, ? examples/s]"
      ]
     },
     "metadata": {},
     "output_type": "display_data"
    }
   ],
   "source": [
    "def get_natural_label_from_record(record):\n",
    "    from datetime import datetime\n",
    "\n",
    "    def get_background_combined_str_from_record(record):\n",
    "        background = record.get(\"background\")\n",
    "        if background == []:\n",
    "            return None\n",
    "        \n",
    "        sep = \", a \"\n",
    "        last_sep = \" and a \"\n",
    "        names = [bird.get(\"name_sci\") for bird in background]\n",
    "        combined_str = sep.join(names)\n",
    "        # instead of last comma add an \"and\" as last separator\n",
    "        combined_str = last_sep.join(combined_str.rsplit(sep, 1))\n",
    "\n",
    "        # add leading \"a \"\n",
    "        combined_str = \"a \" + combined_str\n",
    "        return combined_str\n",
    "\n",
    "    name = record.get(\"name_sci\")\n",
    "    \n",
    "    background_combined_str = get_background_combined_str_from_record(record)\n",
    "\n",
    "    country = record.get(\"country\")\n",
    "\n",
    "    date = record.get(\"date\")\n",
    "    month = datetime.fromisoformat(date).strftime('%B') if date is not None else None\n",
    "    time_label = record.get(\"time_label\")\n",
    "    \n",
    "    duration = record.get(\"duration\")\n",
    "    rating = record.get(\"remarks\").get(\"rating\")\n",
    "\n",
    "    call_type_sep = \", \"\n",
    "    call_type = call_type_sep.join(record.get(\"type\"))\n",
    "\n",
    "    label = f\"A {name} \" if name is not None else \"An unknown bird \"\n",
    "    label += f\"was recorded\"\n",
    "    label += f\" in {country}\" if country is not None else \"\"\n",
    "    label += f\" in {month}\" if month is not None else \"\"\n",
    "    label += f\" at {time_label}\" if time_label is not None else \"\"\n",
    "    label += \". \"\n",
    "    label += f\"The recording is {duration} seconds long. \" if duration is not None else \"\"\n",
    "    label += f\"The sound is described as {call_type}. \" if call_type != \"\" else \"\"\n",
    "    label += f\"The sound quality is {rating} out of 5.\"\n",
    "    label += f\"In the background there is {background_combined_str}. \" if background_combined_str is not None else \"\"\n",
    "    \n",
    "    return {\"natural_label\": label}\n",
    "\n",
    "if __name__ == \"__main__\":\n",
    "    data = data.map(get_natural_label_from_record, num_proc=8)"
   ]
  },
  {
   "cell_type": "code",
   "execution_count": 11,
   "metadata": {},
   "outputs": [
    {
     "data": {
      "application/vnd.jupyter.widget-view+json": {
       "model_id": "52436cd9615a4135bcb3b7ae80aabf33",
       "version_major": 2,
       "version_minor": 0
      },
      "text/plain": [
       "Map:   0%|          | 0/691930 [00:00<?, ? examples/s]"
      ]
     },
     "metadata": {},
     "output_type": "display_data"
    }
   ],
   "source": [
    "sound_types = [\"song\",\"call\",\"wingbeat\",\"rattle\",\"wings\",\"wingclap\",\n",
    "               \"duet\",\"juvenile\",\"adult\",\"clapping\",\"wing beats\",\n",
    "               \"begging\",\"imitation\",\"knocks\",\"drumming\",\"wing flapping\",\n",
    "               \"buzz\",\"trill\",\"clappering\",\"chatter\",\n",
    "               \"trill\",  \"conflict\",\n",
    "               ]\n",
    "\n",
    "def type_mapper(record):\n",
    "    type_list  = record.get(\"type\")\n",
    "    type_str = \";\".join(type_list).lower()\n",
    "    out = []\n",
    "    for sound_type in sound_types:\n",
    "        if sound_type in type_str:\n",
    "            out.append(sound_type)\n",
    "    return {\"type\": out}\n",
    "\n",
    "data = data.map(type_mapper)"
   ]
  }
 ],
 "metadata": {
  "kernelspec": {
   "display_name": "bachelor",
   "language": "python",
   "name": "python3"
  },
  "language_info": {
   "codemirror_mode": {
    "name": "ipython",
    "version": 3
   },
   "file_extension": ".py",
   "mimetype": "text/x-python",
   "name": "python",
   "nbconvert_exporter": "python",
   "pygments_lexer": "ipython3",
   "version": "3.9.16"
  },
  "orig_nbformat": 4
 },
 "nbformat": 4,
 "nbformat_minor": 2
}
