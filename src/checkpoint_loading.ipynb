{
 "cells": [
  {
   "cell_type": "code",
   "execution_count": 1,
   "id": "431b8dda-dd52-4561-b1a9-07ee84a50e15",
   "metadata": {
    "tags": []
   },
   "outputs": [],
   "source": [
    "from main.models import DMAE\n",
    "\n",
    "import os\n",
    "import dotenv\n",
    "import torch\n",
    "\n",
    "from hydra.utils import instantiate\n",
    "from hydra import compose, initialize\n",
    "import pytorch_lightning as pl\n",
    "from omegaconf import DictConfig, open_dict\n",
    "\n",
    "os.chdir(\"train\")"
   ]
  },
  {
   "cell_type": "code",
   "execution_count": 2,
   "id": "28a2b961-9a41-4599-bee7-c5ede0fb7b5e",
   "metadata": {
    "tags": []
   },
   "outputs": [],
   "source": [
    "initialize(version_base=None, config_path=\"train\", job_name=\"test_app\")\n",
    "cfg = compose(config_name=\"config\")"
   ]
  },
  {
   "cell_type": "code",
   "execution_count": 93,
   "id": "975419ca-5508-41f7-8949-1a6709ee1836",
   "metadata": {
    "tags": []
   },
   "outputs": [
    {
     "name": "stdout",
     "output_type": "stream",
     "text": [
      "main.models.DMAE\n"
     ]
    }
   ],
   "source": [
    "print(cfg.model._target_)\n",
    "model = instantiate(cfg.model)"
   ]
  },
  {
   "cell_type": "code",
   "execution_count": 65,
   "id": "1b04117d-de64-4e50-94a3-4bdbf57e135c",
   "metadata": {
    "tags": []
   },
   "outputs": [
    {
     "data": {
      "text/plain": [
       "<All keys matched successfully>"
      ]
     },
     "execution_count": 65,
     "metadata": {},
     "output_type": "execute_result"
    }
   ],
   "source": [
    "ckpt = torch.load(\"/data/logs/ckpts/2023-11-21-15-23-51/epoch=00-valid_loss=0.008.ckpt\")\n",
    "model.load_state_dict(ckpt.get(\"state_dict\"))"
   ]
  },
  {
   "cell_type": "code",
   "execution_count": 46,
   "id": "a661b81a-8cb3-4834-8bc6-82b967ed962b",
   "metadata": {},
   "outputs": [
    {
     "data": {
      "text/plain": [
       "['epoch',\n",
       " 'global_step',\n",
       " 'pytorch-lightning_version',\n",
       " 'state_dict',\n",
       " 'loops',\n",
       " 'callbacks',\n",
       " 'optimizer_states',\n",
       " 'lr_schedulers']"
      ]
     },
     "execution_count": 46,
     "metadata": {},
     "output_type": "execute_result"
    }
   ],
   "source": [
    "list(ckpt.keys())"
   ]
  }
 ],
 "metadata": {
  "kernelspec": {
   "display_name": "Python 3 (ipykernel)",
   "language": "python",
   "name": "python3"
  },
  "language_info": {
   "codemirror_mode": {
    "name": "ipython",
    "version": 3
   },
   "file_extension": ".py",
   "mimetype": "text/x-python",
   "name": "python",
   "nbconvert_exporter": "python",
   "pygments_lexer": "ipython3",
   "version": "3.10.13"
  }
 },
 "nbformat": 4,
 "nbformat_minor": 5
}
