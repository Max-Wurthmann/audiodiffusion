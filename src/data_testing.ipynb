{
 "cells": [
  {
   "cell_type": "code",
   "execution_count": 26,
   "id": "3f845645-5710-45a2-99ea-fc3525f8ba37",
   "metadata": {},
   "outputs": [],
   "source": [
    "import datasets\n",
    "import pandas as pd\n",
    "import os\n",
    "from tqdm import tqdm "
   ]
  },
  {
   "cell_type": "code",
   "execution_count": 27,
   "id": "0619b878-6d89-413b-90fb-8753042bea0e",
   "metadata": {},
   "outputs": [],
   "source": [
    "meta_dir = \"/data/meta\"\n",
    "xeno_canto = datasets.load_from_disk(os.path.join(meta_dir, \"xeno_canto\")).with_format(\"pandas\")\n",
    "bergman = pd.read_csv(os.path.join(meta_dir, \"bergman_en.csv\"))"
   ]
  },
  {
   "cell_type": "code",
   "execution_count": 47,
   "id": "2b70a35b-5479-463f-8f0d-fc15952a4636",
   "metadata": {},
   "outputs": [
    {
     "name": "stdout",
     "output_type": "stream",
     "text": [
      "['Rallus aquaticus; morning; week 27; 2013; Polska; 26.0 seconds; 5 of 5; call; adult', 'Psittacus erithacus; afternoon; week 11; 2019; Cameroun; 75.4 seconds; 4 of 5; song', 'Athene noctua; evening; week 10; 2019; Portugal; 18.2 seconds; 4 of 5; song; Carduelis carduelis; Turdus merula', 'Periparus ater; morning; week 21; 2015; 日本; 15.9 seconds; 5 of 5; song', 'Caprimulgus europaeus; night; week 22; 2015; Sverige; 6.7 seconds; 3 of 5; call', 'Muscicapa griseisticta; afternoon; week 02; 2019; 日本; 80.4 seconds; 3 of 5; song; Sittiparus varius; Hypsipetes amaurotis', 'Unknown; evening; week 37; 2016; Deutschland; 276.0 seconds; 0 of 5; song; call; Lophophanes cristatus; Troglodytes troglodytes', 'Cyanistes cyanus; morning; week 22; 2018; ЦЕНТРОБАНК РФ ВСЕХ НAЕБАЛ; 2.8 seconds; 4 of 5; call', 'Phylloscopus trochilus; morning; week 21; 2017; United Kingdom; 141.2 seconds; 2 of 5; song; Troglodytes troglodytes; Turdus merula; Turdus philomelos; Columba palumbus; Emberiza citrinella; Fringilla coelebs; Alauda arvensis', 'Herpsilochmus pileatus; morning; week 05; 2014; Brasil; 22.0 seconds; 0 of 5; song', 'Anthus correndera; afternoon; week 43; 2014; Brasil; 140.6 seconds; 3 of 5; song', 'Tricholaema melanocephala; morning; week 47; 2018; Kenya; 10.9 seconds; 5 of 5; call', 'Rallus limicola; morning; week 40; 2012; Canada; 21.6 seconds; 3 of 5; call', 'Vanellus vanellus; night; week 22; 2019; België / Belgique / Belgien; 80.9 seconds; 5 of 5; call; begging', 'Tarsiger cyanurus; evening; week 21; 2015; 日本; 42.4 seconds; 5 of 5; song']\n",
      "\n",
      "['Apus melba; Trilling flight calls that rise and then fall, including monosyllabic calls', 'Numenius phaeopus; Flight calls of a flock.', 'Larus hyperboreus; Main calls and display strophe in flight', 'Carduelis chloris; Series of flight intention calls on a perch, followed by take-off. In Background Chaffinch.', 'Calidris canutus; Flight calls of a party in search of feeding area.', 'Polysticta stelleri; Instrumental wing sounds of flock in flight', 'Riparia riparia; Song verses at the burrow, partly during flight.', 'Melanitta fusca; Group of four ducks in flight, nasal flight calls.', 'Anthus petrosus; Alarm at nesting site and flight calls including two types.', 'Anser albifrons; Calls of a party of birds followed by rattling flight sound.', 'Aquila chrysaetos; Calls of a pair flying close to their eyrie (series of short singletons,partly somewhat hoarse)', 'Bucephala clangula; Display calls and flight sound of male.', 'Turdus viscivorus; Take-off with alarm calls', 'Loxia pytyopsittacus; Variable flight calls of a flock.', 'Branta bernicla; Distance calls from a big flock when starting.']\n"
     ]
    }
   ],
   "source": [
    "from random import sample\n",
    "xc_labels = sample(xeno_canto.with_format(None)[\"simple_label\"], 15)\n",
    "bergman_labels = sample(bergman.label.to_list(), 15)\n",
    "print(xc_labels)\n",
    "print()\n",
    "print(bergman_labels)"
   ]
  },
  {
   "cell_type": "code",
   "execution_count": 49,
   "id": "46367291-db79-46d4-8acd-4ad51996fd33",
   "metadata": {},
   "outputs": [
    {
     "data": {
      "text/plain": [
       "'Cyanistes cyanus; morning; week 22; 2018; ЦЕНТРОБАНК РФ ВСЕХ НAЕБАЛ; 2.8 seconds; 4 of 5; call'"
      ]
     },
     "execution_count": 49,
     "metadata": {},
     "output_type": "execute_result"
    }
   ],
   "source": [
    "xc_labels[-8]"
   ]
  },
  {
   "cell_type": "code",
   "execution_count": 3,
   "id": "15bc36f6-9773-45d9-95e7-609131352a72",
   "metadata": {},
   "outputs": [],
   "source": [
    "sci_names = pd.concat([xeno_canto[\"sci_name\"], bergman[\"name_sci\"]], ignore_index=True)\n",
    "sci_names.fillna(\"Unknown\", inplace=True)\n",
    "sci_name_counts = sci_names.value_counts()"
   ]
  },
  {
   "cell_type": "code",
   "execution_count": 4,
   "id": "be16ebb7-d4eb-444b-b3e4-7bd34a13b674",
   "metadata": {},
   "outputs": [],
   "source": [
    "with open(\"/data/BirdNET-Analyzer/labels/V2.4/BirdNET_GLOBAL_6K_V2.4_Labels_de.txt\") as f:\n",
    "    birdnet_sci_names = f.read().split(\"\\n\")\n",
    "    birdnet_sci_names = [name[:name.find(\"_\")] for name in birdnet_sci_names if name != \"\"]\n",
    "    birdnet_sci_names = set(birdnet_sci_names)"
   ]
  },
  {
   "cell_type": "code",
   "execution_count": 25,
   "id": "81ee083b-070e-44be-b70e-3e4a173c8354",
   "metadata": {},
   "outputs": [
    {
     "name": "stdout",
     "output_type": "stream",
     "text": [
      "0.8807196505981254 % of samples\n",
      "0.6094411942707283 % of classes\n",
      "reduced\n",
      "0.0 % of samples\n",
      "0.0 % of classes\n"
     ]
    }
   ],
   "source": [
    "is_contained = sci_names.map(lambda x: x in birdnet_sci_names)\n",
    "print(is_contained.mean(), \"% of samples\")\n",
    "\n",
    "is_contained = pd.Series(sci_names.unique()).map(lambda x: x in birdnet_sci_names)\n",
    "print(is_contained.mean(), \"% of classes\")\n",
    "\n",
    "print(\"reduced\")\n",
    "reduced_xeno_canto = xeno_canto.filter(lambda x: x.get(\"duration\") <= 32)[\"sci_name\"]\n",
    "reduced = pd.concat([reduced_xeno_canto, bergman[\"name_sci\"]], ignore_index=True)\n",
    "reduced.fillna(\"Unknown\", inplace=True)\n",
    "\n",
    "is_contained = reduced.map(lambda x: x in birdnet_sci_names)\n",
    "print(is_contained.mean(), \"% of samples\")\n",
    "\n",
    "is_contained = pd.Series(reduced.unique()).map(lambda x: x in birdnet_sci_names)\n",
    "print(is_contained.mean(), \"% of classes\")"
   ]
  },
  {
   "cell_type": "code",
   "execution_count": 30,
   "id": "ae72d3b1-5969-4bb1-8f56-191ef34ff5f1",
   "metadata": {},
   "outputs": [
    {
     "data": {
      "text/plain": [
       "268.69754725893927"
      ]
     },
     "execution_count": 30,
     "metadata": {},
     "output_type": "execute_result"
    }
   ],
   "source": [
    "sci_name_counts.std()"
   ]
  },
  {
   "cell_type": "code",
   "execution_count": 28,
   "id": "a0760efc-1c92-47ab-a316-e47f4eb89a95",
   "metadata": {},
   "outputs": [
    {
     "data": {
      "text/plain": [
       "<Axes: >"
      ]
     },
     "execution_count": 28,
     "metadata": {},
     "output_type": "execute_result"
    },
    {
     "data": {
      "image/png": "[encoded data removed]",
      "text/plain": [
       "<Figure size 640x480 with 1 Axes>"
      ]
     },
     "metadata": {},
     "output_type": "display_data"
    }
   ],
   "source": [
    "sci_name_counts.plot()"
   ]
  },
  {
   "cell_type": "code",
   "execution_count": 5,
   "id": "eb7d096e-24b5-489d-9255-7ff6be1296c5",
   "metadata": {},
   "outputs": [
    {
     "name": "stderr",
     "output_type": "stream",
     "text": [
      "Special tokens have been added in the vocabulary, make sure the associated word embeddings are fine-tuned or trained.\n"
     ]
    }
   ],
   "source": [
    "from transformers import T5Tokenizer\n",
    "tokenizer = T5Tokenizer.from_pretrained(\"t5-base\", model_max_length=512)"
   ]
  },
  {
   "cell_type": "code",
   "execution_count": 31,
   "id": "7e89cda0-7ee8-4eb2-966d-a96e720fe78a",
   "metadata": {},
   "outputs": [
    {
     "name": "stderr",
     "output_type": "stream",
     "text": [
      "100%|██████████| 648292/648292 [07:18<00:00, 1478.67it/s]\n"
     ]
    }
   ],
   "source": [
    "for sci_name in tqdm(sci_names[sci_names.notna()]):\n",
    "    ids = tokenizer.encode(sci_name)\n",
    "    out = tokenizer.decode(ids)\n",
    "    out = out.removesuffix(tokenizer.eos_token)\n",
    "    assert sci_name == out, f\"{sci_name} was not recovered and instead {sci_name} was returned\""
   ]
  },
  {
   "cell_type": "markdown",
   "id": "85a05755-e46f-4bf9-b855-0b3355fb3b63",
   "metadata": {},
   "source": [
    "### Testing stratified sampling"
   ]
  },
  {
   "cell_type": "code",
   "execution_count": 86,
   "id": "ebf67925-9d53-4cfe-b500-9f400f01484c",
   "metadata": {},
   "outputs": [
    {
     "name": "stdout",
     "output_type": "stream",
     "text": [
      "0.9999999999999999\n"
     ]
    }
   ],
   "source": [
    "from torch.utils.data import WeightedRandomSampler, Dataset, DataLoader, random_split\n",
    "import pandas as pd\n",
    "\n",
    "ds = [\"a1\", \"a2\", \"a3\", \"a4\", \"a5\", \"a6\", \"b1\", \"c1\"]\n",
    "classes = pd.Series([1, 1, 1, 1, 1, 1, 2, 3])\n",
    "\n",
    "total = classes.size\n",
    "class_counts = classes.value_counts()\n",
    "num_classes = class_counts.size\n",
    "\n",
    "weights = classes.map(lambda c: 1/(class_counts[c] * num_classes))\n",
    "print(weights.sum())\n",
    "\n",
    "sampler = WeightedRandomSampler(weights=weights, num_samples=20)\n"
   ]
  },
  {
   "cell_type": "code",
   "execution_count": 84,
   "id": "a5e70eee-3372-49c5-889d-66f73658258f",
   "metadata": {},
   "outputs": [
    {
     "name": "stdout",
     "output_type": "stream",
     "text": [
      "[('a3', 1), ('a1', 1), ('a6', 1), ('b1', 2)]\n",
      "[('a5', 1), ('a4', 1), ('a2', 1), ('c1', 3)]\n"
     ]
    }
   ],
   "source": [
    "import torch\n",
    "seed = 12345\n",
    "split = lambda seq: random_split(seq,\n",
    "                                 [0.5, 0.5],\n",
    "                                 generator=torch.Generator().manual_seed(seed),\n",
    "                                )\n",
    "ds_split = split(ds)\n",
    "cl_split = split(classes)\n",
    "for ds, c in zip(ds_split, cl_split):\n",
    "    print(list(zip(ds, c)))"
   ]
  },
  {
   "cell_type": "code",
   "execution_count": 98,
   "id": "358afe0b-af68-4355-8d31-2e24f37465eb",
   "metadata": {},
   "outputs": [
    {
     "data": {
      "text/plain": [
       "0    1\n",
       "1    1\n",
       "2    1\n",
       "3    2\n",
       "dtype: int64"
      ]
     },
     "execution_count": 98,
     "metadata": {},
     "output_type": "execute_result"
    }
   ],
   "source": [
    "pd.Series(cl_split[0])\n",
    "subset = cl_split[0]\n",
    "pd.Series(iter(subset))"
   ]
  },
  {
   "cell_type": "code",
   "execution_count": 45,
   "id": "3e1ec5f2-15ce-4095-95bc-e80eb0d4c4e6",
   "metadata": {},
   "outputs": [
    {
     "name": "stdout",
     "output_type": "stream",
     "text": [
      "['c1', 'b1']\n",
      "['b1', 'c1']\n",
      "['a4', 'c1']\n",
      "['a3', 'b1']\n",
      "['b1', 'c1']\n",
      "['b1', 'b1']\n",
      "['b1', 'a4']\n",
      "['c1', 'c1']\n",
      "['a3', 'c1']\n",
      "['c1', 'c1']\n"
     ]
    }
   ],
   "source": [
    "dl = DataLoader(ds, batch_size=2, sampler=sampler)\n",
    "\n",
    "for batch in dl:\n",
    "    print(batch)"
   ]
  }
 ],
 "metadata": {
  "kernelspec": {
   "display_name": "Python 3 (ipykernel)",
   "language": "python",
   "name": "python3"
  },
  "language_info": {
   "codemirror_mode": {
    "name": "ipython",
    "version": 3
   },
   "file_extension": ".py",
   "mimetype": "text/x-python",
   "name": "python",
   "nbconvert_exporter": "python",
   "pygments_lexer": "ipython3",
   "version": "3.10.13"
  }
 },
 "nbformat": 4,
 "nbformat_minor": 5
}
