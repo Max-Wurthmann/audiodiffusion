{
 "cells": [
  {
   "attachments": {},
   "cell_type": "markdown",
   "metadata": {},
   "source": [
    "### Discuss\n",
    "\n",
    "- model eval\n",
    "    - mAP impl\n",
    "    - FAD?\n",
    "    - what step sizes to analyze next? (e.g. 25 steps)\n",
    "    - open analysis: 400 steps\n",
    "- thesis \n",
    "    - separate results and discussion (yes)\n",
    "    - appendix\n",
    "    - appreciations\n",
    "    - reference to github repo (still private?)\n",
    "    - reference to wandb"
   ]
  },
  {
   "cell_type": "markdown",
   "metadata": {
    "jp-MarkdownHeadingCollapsed": true
   },
   "source": [
    "### all test ideas\n",
    "- test if model memorised training samples\n",
    "- test if audio files actually contain the bird in the text  \n",
    "    - test influence of embeddig scale\n",
    "    - using a discriminative model and/or\n",
    "    - an ornithologist\n",
    "- test of general audio quality   \n",
    "    - idea FAD-score: compare distribution of last hidden layer of classification model applied on real vs gnerated audio data\n",
    "    - test over different latent lengths \n",
    "    - compare influence of num_sampling_steps and num_decoding_steps (and which has more influence on quality)\n",
    "    - survey asking people to distinguish ai-generated from real audio files\n",
    "- test linearity of latent space \n",
    "    - test e.g. if latent(\"raven with rain\") - latent(\"rain\") + latent(\"sparrow\") = latent(\"raven + sparrow\")\n",
    "- test audio augmentation\n",
    "    - add rain and backgroundnoise to samples and train again\n",
    "- test different label formulations\n",
    "    - eng name instead of sci\n",
    "    - natural languege \n",
    "- test generated audio length \n",
    "    - find corr between length in label and actual soundfilled length\n",
    "    \n",
    "#### Long Term\n",
    "- use model to modify (data augmentation) or generate training samples for classifier training (do generated/modified samples increase classifier acc?) "
   ]
  }
 ],
 "metadata": {
  "kernelspec": {
   "display_name": "Python 3 (ipykernel)",
   "language": "python",
   "name": "python3"
  },
  "language_info": {
   "codemirror_mode": {
    "name": "ipython",
    "version": 3
   },
   "file_extension": ".py",
   "mimetype": "text/x-python",
   "name": "python",
   "nbconvert_exporter": "python",
   "pygments_lexer": "ipython3",
   "version": "3.10.13"
  }
 },
 "nbformat": 4,
 "nbformat_minor": 4
}
