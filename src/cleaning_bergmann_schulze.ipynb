{
 "cells": [
  {
   "cell_type": "code",
   "execution_count": 1,
   "id": "a5b63031-7cb7-4150-baee-ec803138d104",
   "metadata": {
    "tags": []
   },
   "outputs": [],
   "source": [
    "import pandas as pd\n",
    "from glob import glob\n",
    "import os\n",
    "from pathlib  import Path\n",
    "import torchaudio\n",
    "from datasets import Dataset\n",
    "from tqdm import tqdm\n",
    "import numpy as np"
   ]
  },
  {
   "cell_type": "markdown",
   "id": "9e18808c-d639-4711-8fd5-f7389daea7fb",
   "metadata": {},
   "source": [
    "### Schulze"
   ]
  },
  {
   "cell_type": "code",
   "execution_count": 2,
   "id": "8e9a4093-ebbb-4213-ba37-440c3b1fc527",
   "metadata": {
    "tags": []
   },
   "outputs": [
    {
     "data": {
      "text/html": [
       "<div>\n",
       "<style scoped>\n",
       "    .dataframe tbody tr th:only-of-type {\n",
       "        vertical-align: middle;\n",
       "    }\n",
       "\n",
       "    .dataframe tbody tr th {\n",
       "        vertical-align: top;\n",
       "    }\n",
       "\n",
       "    .dataframe thead th {\n",
       "        text-align: right;\n",
       "    }\n",
       "</style>\n",
       "<table border=\"1\" class=\"dataframe\">\n",
       "  <thead>\n",
       "    <tr style=\"text-align: right;\">\n",
       "      <th></th>\n",
       "      <th>file</th>\n",
       "      <th>time_ranges</th>\n",
       "      <th>comment</th>\n",
       "      <th>name_de</th>\n",
       "    </tr>\n",
       "  </thead>\n",
       "  <tbody>\n",
       "    <tr>\n",
       "      <th>0</th>\n",
       "      <td>/data/vogelstimmen_cds/schulze/CD01/0101 Stern...</td>\n",
       "      <td>0:00 - 0:16 - 0:40 - 0:50 - 0:58</td>\n",
       "      <td>Calls. Recording 1: courtship display of a pa...</td>\n",
       "      <td>Sterntaucher</td>\n",
       "    </tr>\n",
       "    <tr>\n",
       "      <th>1</th>\n",
       "      <td>/data/vogelstimmen_cds/schulze/CD01/0102 Prach...</td>\n",
       "      <td>0:00 - 0:09 - 0:20 - 0:38 - 0:47 - 0:57</td>\n",
       "      <td>Calls. In recording 2 also noise of water, in ...</td>\n",
       "      <td>Prachttaucher</td>\n",
       "    </tr>\n",
       "    <tr>\n",
       "      <th>2</th>\n",
       "      <td>/data/vogelstimmen_cds/schulze/CD01/0103 Eista...</td>\n",
       "      <td>0:00 - 0:39 - 1:02</td>\n",
       "      <td>Calls of courting pairs</td>\n",
       "      <td>Eistaucher</td>\n",
       "    </tr>\n",
       "    <tr>\n",
       "      <th>3</th>\n",
       "      <td>/data/vogelstimmen_cds/schulze/CD01/0104 Gelbs...</td>\n",
       "      <td>0:00 - 0:29 - 0:52</td>\n",
       "      <td>Calls of a courting pair</td>\n",
       "      <td>Gelbschnabeltaucher</td>\n",
       "    </tr>\n",
       "    <tr>\n",
       "      <th>4</th>\n",
       "      <td>/data/vogelstimmen_cds/schulze/CD01/0105 Binde...</td>\n",
       "      <td>0:00 - 0:30</td>\n",
       "      <td>Calls</td>\n",
       "      <td>Bindentaucher</td>\n",
       "    </tr>\n",
       "    <tr>\n",
       "      <th>...</th>\n",
       "      <td>...</td>\n",
       "      <td>...</td>\n",
       "      <td>...</td>\n",
       "      <td>...</td>\n",
       "    </tr>\n",
       "    <tr>\n",
       "      <th>1306</th>\n",
       "      <td>/data/vogelstimmen_cds/schulze/CD17/1781 Rosen...</td>\n",
       "      <td>0:00 - 0:28</td>\n",
       "      <td>Song</td>\n",
       "      <td>Rosenbrust-Kernknacker</td>\n",
       "    </tr>\n",
       "    <tr>\n",
       "      <th>1307</th>\n",
       "      <td>/data/vogelstimmen_cds/schulze/CD17/1782 Rosen...</td>\n",
       "      <td>0:00 - 0:12</td>\n",
       "      <td>Calls</td>\n",
       "      <td>Rosenbrust-Kernknacker</td>\n",
       "    </tr>\n",
       "    <tr>\n",
       "      <th>1308</th>\n",
       "      <td>/data/vogelstimmen_cds/schulze/CD17/1783 Azurb...</td>\n",
       "      <td>0:00 - 0:36</td>\n",
       "      <td>Song</td>\n",
       "      <td>Azurbischof</td>\n",
       "    </tr>\n",
       "    <tr>\n",
       "      <th>1309</th>\n",
       "      <td>/data/vogelstimmen_cds/schulze/CD17/1784 Indig...</td>\n",
       "      <td>0:00 - 0:25</td>\n",
       "      <td>Song</td>\n",
       "      <td>Indigofink</td>\n",
       "    </tr>\n",
       "    <tr>\n",
       "      <th>1310</th>\n",
       "      <td>/data/vogelstimmen_cds/schulze/CD17/1785 Papst...</td>\n",
       "      <td>0:00 - 0:36</td>\n",
       "      <td>Song</td>\n",
       "      <td>Papstfink</td>\n",
       "    </tr>\n",
       "  </tbody>\n",
       "</table>\n",
       "<p>1311 rows × 4 columns</p>\n",
       "</div>"
      ],
      "text/plain": [
       "                                                   file  \\\n",
       "0     /data/vogelstimmen_cds/schulze/CD01/0101 Stern...   \n",
       "1     /data/vogelstimmen_cds/schulze/CD01/0102 Prach...   \n",
       "2     /data/vogelstimmen_cds/schulze/CD01/0103 Eista...   \n",
       "3     /data/vogelstimmen_cds/schulze/CD01/0104 Gelbs...   \n",
       "4     /data/vogelstimmen_cds/schulze/CD01/0105 Binde...   \n",
       "...                                                 ...   \n",
       "1306  /data/vogelstimmen_cds/schulze/CD17/1781 Rosen...   \n",
       "1307  /data/vogelstimmen_cds/schulze/CD17/1782 Rosen...   \n",
       "1308  /data/vogelstimmen_cds/schulze/CD17/1783 Azurb...   \n",
       "1309  /data/vogelstimmen_cds/schulze/CD17/1784 Indig...   \n",
       "1310  /data/vogelstimmen_cds/schulze/CD17/1785 Papst...   \n",
       "\n",
       "                                  time_ranges  \\\n",
       "0            0:00 - 0:16 - 0:40 - 0:50 - 0:58   \n",
       "1     0:00 - 0:09 - 0:20 - 0:38 - 0:47 - 0:57   \n",
       "2                          0:00 - 0:39 - 1:02   \n",
       "3                          0:00 - 0:29 - 0:52   \n",
       "4                                 0:00 - 0:30   \n",
       "...                                       ...   \n",
       "1306                              0:00 - 0:28   \n",
       "1307                              0:00 - 0:12   \n",
       "1308                              0:00 - 0:36   \n",
       "1309                              0:00 - 0:25   \n",
       "1310                              0:00 - 0:36   \n",
       "\n",
       "                                                comment  \\\n",
       "0      Calls. Recording 1: courtship display of a pa...   \n",
       "1     Calls. In recording 2 also noise of water, in ...   \n",
       "2                               Calls of courting pairs   \n",
       "3                              Calls of a courting pair   \n",
       "4                                                 Calls   \n",
       "...                                                 ...   \n",
       "1306                                               Song   \n",
       "1307                                              Calls   \n",
       "1308                                               Song   \n",
       "1309                                               Song   \n",
       "1310                                               Song   \n",
       "\n",
       "                     name_de  \n",
       "0               Sterntaucher  \n",
       "1              Prachttaucher  \n",
       "2                 Eistaucher  \n",
       "3        Gelbschnabeltaucher  \n",
       "4              Bindentaucher  \n",
       "...                      ...  \n",
       "1306  Rosenbrust-Kernknacker  \n",
       "1307  Rosenbrust-Kernknacker  \n",
       "1308             Azurbischof  \n",
       "1309              Indigofink  \n",
       "1310               Papstfink  \n",
       "\n",
       "[1311 rows x 4 columns]"
      ]
     },
     "execution_count": 2,
     "metadata": {},
     "output_type": "execute_result"
    }
   ],
   "source": [
    "data_dir = Path(\"/data/vogelstimmen_cds/schulze/\")\n",
    "\n",
    "metadata_loc = \"/data/meta/schulze_en.csv\"\n",
    "metadata = pd.read_csv(metadata_loc)\n",
    "metadata"
   ]
  },
  {
   "cell_type": "code",
   "execution_count": 6,
   "id": "b51e0555-a3a5-4b30-bfe3-3b142fcc8680",
   "metadata": {
    "tags": []
   },
   "outputs": [
    {
     "name": "stderr",
     "output_type": "stream",
     "text": [
      "100%|██████████| 1311/1311 [01:54<00:00, 11.49it/s]\n"
     ]
    }
   ],
   "source": [
    "for file in tqdm(metadata.file):\n",
    "    out = torchaudio.load(file)"
   ]
  },
  {
   "cell_type": "code",
   "execution_count": 110,
   "id": "23ebf658-5df8-4ad5-8c26-f89461de8eb8",
   "metadata": {
    "tags": []
   },
   "outputs": [
    {
     "name": "stdout",
     "output_type": "stream",
     "text": [
      "Grauspecht                4\n",
      "Mittelspecht              4\n",
      "Schwarzspecht             4\n",
      "Kleinspecht               4\n",
      "Eisvogel                  3\n",
      "                         ..\n",
      "Einsamer Wasserlaeufer    1\n",
      "Drosseluferlaeufer        1\n",
      "Schlammtreter             1\n",
      "Wilsonwassertreter        1\n",
      "Papstfink                 1\n",
      "Name: name_de, Length: 819, dtype: int64\n"
     ]
    }
   ],
   "source": [
    "print(metadata.name_de.value_counts())"
   ]
  },
  {
   "cell_type": "code",
   "execution_count": 6,
   "id": "3b507f10-8dfb-405d-8635-7899e989823a",
   "metadata": {
    "tags": []
   },
   "outputs": [],
   "source": [
    "def get_file(file_ref):\n",
    "    cd_num, file_num = file_ref.split(\"/\")\n",
    "    cd_num, file_num = cd_num.zfill(2), file_num.zfill(2) # add leading 0 if needed to get 2 digits\n",
    "    # note: both cd_num, file_num are strings\n",
    "    cd_dir = f\"CD{cd_num}\"\n",
    "    file_prefix = f\"{cd_num}{file_num}\"\n",
    "    pattern = os.path.join(data_dir, cd_dir, f\"{file_prefix}*\")\n",
    "    matches = glob(pattern)\n",
    "    assert len(matches) == 1, f\"the pattern '{pattern}' should only match one file but matches are: {matches}\"\n",
    "    file = matches[0]\n",
    "    return file\n",
    "\n",
    "metadata[\"file\"] = metadata.file.apply(get_file)"
   ]
  },
  {
   "cell_type": "code",
   "execution_count": 17,
   "id": "a819380e-43c2-4751-b341-60fe13360b65",
   "metadata": {
    "tags": []
   },
   "outputs": [],
   "source": [
    "def get_name(file):\n",
    "    file = os.path.split(file)[1]\n",
    "    name_de = \" \".join(file.split()[1:-1])\n",
    "    return name_de\n",
    "\n",
    "metadata[\"name_de\"] = metadata.file.apply(get_name)"
   ]
  },
  {
   "cell_type": "code",
   "execution_count": 92,
   "id": "ac5534bc-fde9-4405-9219-7c897284eaee",
   "metadata": {
    "tags": []
   },
   "outputs": [],
   "source": [
    "metadata.to_csv(metadata_loc, index=False)"
   ]
  },
  {
   "cell_type": "markdown",
   "id": "95fc2fcd-dced-4e6e-b4f0-c3f98cb4456d",
   "metadata": {},
   "source": [
    "### Bergmann"
   ]
  },
  {
   "cell_type": "code",
   "execution_count": 2,
   "id": "cae19fc5-5110-438b-92f9-77693e19aad9",
   "metadata": {
    "tags": []
   },
   "outputs": [
    {
     "data": {
      "text/html": [
       "<div>\n",
       "<style scoped>\n",
       "    .dataframe tbody tr th:only-of-type {\n",
       "        vertical-align: middle;\n",
       "    }\n",
       "\n",
       "    .dataframe tbody tr th {\n",
       "        vertical-align: top;\n",
       "    }\n",
       "\n",
       "    .dataframe thead th {\n",
       "        text-align: right;\n",
       "    }\n",
       "</style>\n",
       "<table border=\"1\" class=\"dataframe\">\n",
       "  <thead>\n",
       "    <tr style=\"text-align: right;\">\n",
       "      <th></th>\n",
       "      <th>file</th>\n",
       "      <th>duration</th>\n",
       "      <th>comment</th>\n",
       "      <th>name_de</th>\n",
       "      <th>name_sci</th>\n",
       "      <th>label</th>\n",
       "    </tr>\n",
       "  </thead>\n",
       "  <tbody>\n",
       "    <tr>\n",
       "      <th>0</th>\n",
       "      <td>/data/vogelstimmen_cds/bergmann/0010-0170_Anat...</td>\n",
       "      <td>22.0</td>\n",
       "      <td>Wing sounds during flight including snorting ...</td>\n",
       "      <td>Hoeckerschwan</td>\n",
       "      <td>Cygnus olor</td>\n",
       "      <td>A Cygnus olor. Wing sounds during flight inclu...</td>\n",
       "    </tr>\n",
       "    <tr>\n",
       "      <th>1</th>\n",
       "      <td>/data/vogelstimmen_cds/bergmann/0010-0170_Anat...</td>\n",
       "      <td>39.0</td>\n",
       "      <td>Two individual birds flying past: singing and...</td>\n",
       "      <td>Hoeckerschwan</td>\n",
       "      <td>Cygnus olor</td>\n",
       "      <td>A Cygnus olor. Two individual birds flying pas...</td>\n",
       "    </tr>\n",
       "    <tr>\n",
       "      <th>2</th>\n",
       "      <td>/data/vogelstimmen_cds/bergmann/0010-0170_Anat...</td>\n",
       "      <td>19.0</td>\n",
       "      <td>A single bird taking-off from the water surfa...</td>\n",
       "      <td>Hoeckerschwan</td>\n",
       "      <td>Cygnus olor</td>\n",
       "      <td>A Cygnus olor. A single bird taking-off from t...</td>\n",
       "    </tr>\n",
       "    <tr>\n",
       "      <th>3</th>\n",
       "      <td>/data/vogelstimmen_cds/bergmann/0010-0170_Anat...</td>\n",
       "      <td>16.0</td>\n",
       "      <td>Two birds, short calls and landing sounds on ...</td>\n",
       "      <td>Hoeckerschwan</td>\n",
       "      <td>Cygnus olor</td>\n",
       "      <td>A Cygnus olor. Two birds, short calls and land...</td>\n",
       "    </tr>\n",
       "    <tr>\n",
       "      <th>4</th>\n",
       "      <td>/data/vogelstimmen_cds/bergmann/0010-0170_Anat...</td>\n",
       "      <td>54.0</td>\n",
       "      <td>Flight sounds and starting noise from water p...</td>\n",
       "      <td>Hoeckerschwan</td>\n",
       "      <td>Cygnus olor</td>\n",
       "      <td>A Cygnus olor. Flight sounds and starting nois...</td>\n",
       "    </tr>\n",
       "    <tr>\n",
       "      <th>...</th>\n",
       "      <td>...</td>\n",
       "      <td>...</td>\n",
       "      <td>...</td>\n",
       "      <td>...</td>\n",
       "      <td>...</td>\n",
       "      <td>...</td>\n",
       "    </tr>\n",
       "    <tr>\n",
       "      <th>845</th>\n",
       "      <td>/data/vogelstimmen_cds/bergmann/3190-3500_Estr...</td>\n",
       "      <td>24.0</td>\n",
       "      <td>Calls and flight song.</td>\n",
       "      <td>Ortolan</td>\n",
       "      <td>Emberiza hortulana</td>\n",
       "      <td>A Emberiza hortulana. Calls and flight song.</td>\n",
       "    </tr>\n",
       "    <tr>\n",
       "      <th>846</th>\n",
       "      <td>/data/vogelstimmen_cds/bergmann/3190-3500_Estr...</td>\n",
       "      <td>10.0</td>\n",
       "      <td>Flight calls („pt“) of staging birds during t...</td>\n",
       "      <td>Ortolan</td>\n",
       "      <td>Emberiza hortulana</td>\n",
       "      <td>A Emberiza hortulana. Flight calls („pt“) of s...</td>\n",
       "    </tr>\n",
       "    <tr>\n",
       "      <th>847</th>\n",
       "      <td>/data/vogelstimmen_cds/bergmann/3190-3500_Estr...</td>\n",
       "      <td>9.0</td>\n",
       "      <td>The sharp „tchitt“ and quiet „plet“ calls are...</td>\n",
       "      <td>Grauortolan</td>\n",
       "      <td>Emberiza caesia</td>\n",
       "      <td>A Emberiza caesia. The sharp „tchitt“ and quie...</td>\n",
       "    </tr>\n",
       "    <tr>\n",
       "      <th>848</th>\n",
       "      <td>/data/vogelstimmen_cds/bergmann/3190-3500_Estr...</td>\n",
       "      <td>8.0</td>\n",
       "      <td>Calls of a bird in flight</td>\n",
       "      <td>Rohrammer</td>\n",
       "      <td>Emberiza schoeniclus</td>\n",
       "      <td>A Emberiza schoeniclus. Calls of a bird in flight</td>\n",
       "    </tr>\n",
       "    <tr>\n",
       "      <th>849</th>\n",
       "      <td>/data/vogelstimmen_cds/bergmann/3190-3500_Estr...</td>\n",
       "      <td>19.0</td>\n",
       "      <td>Flight song, very rarely heard and recorded, ...</td>\n",
       "      <td>Kappenammer</td>\n",
       "      <td>Emberiza melanocephala</td>\n",
       "      <td>A Emberiza melanocephala. Flight song, very ra...</td>\n",
       "    </tr>\n",
       "  </tbody>\n",
       "</table>\n",
       "<p>850 rows × 6 columns</p>\n",
       "</div>"
      ],
      "text/plain": [
       "                                                  file  duration  \\\n",
       "0    /data/vogelstimmen_cds/bergmann/0010-0170_Anat...      22.0   \n",
       "1    /data/vogelstimmen_cds/bergmann/0010-0170_Anat...      39.0   \n",
       "2    /data/vogelstimmen_cds/bergmann/0010-0170_Anat...      19.0   \n",
       "3    /data/vogelstimmen_cds/bergmann/0010-0170_Anat...      16.0   \n",
       "4    /data/vogelstimmen_cds/bergmann/0010-0170_Anat...      54.0   \n",
       "..                                                 ...       ...   \n",
       "845  /data/vogelstimmen_cds/bergmann/3190-3500_Estr...      24.0   \n",
       "846  /data/vogelstimmen_cds/bergmann/3190-3500_Estr...      10.0   \n",
       "847  /data/vogelstimmen_cds/bergmann/3190-3500_Estr...       9.0   \n",
       "848  /data/vogelstimmen_cds/bergmann/3190-3500_Estr...       8.0   \n",
       "849  /data/vogelstimmen_cds/bergmann/3190-3500_Estr...      19.0   \n",
       "\n",
       "                                               comment        name_de  \\\n",
       "0     Wing sounds during flight including snorting ...  Hoeckerschwan   \n",
       "1     Two individual birds flying past: singing and...  Hoeckerschwan   \n",
       "2     A single bird taking-off from the water surfa...  Hoeckerschwan   \n",
       "3     Two birds, short calls and landing sounds on ...  Hoeckerschwan   \n",
       "4     Flight sounds and starting noise from water p...  Hoeckerschwan   \n",
       "..                                                 ...            ...   \n",
       "845                            Calls and flight song.         Ortolan   \n",
       "846   Flight calls („pt“) of staging birds during t...        Ortolan   \n",
       "847   The sharp „tchitt“ and quiet „plet“ calls are...    Grauortolan   \n",
       "848                          Calls of a bird in flight      Rohrammer   \n",
       "849   Flight song, very rarely heard and recorded, ...    Kappenammer   \n",
       "\n",
       "                   name_sci                                              label  \n",
       "0               Cygnus olor  A Cygnus olor. Wing sounds during flight inclu...  \n",
       "1               Cygnus olor  A Cygnus olor. Two individual birds flying pas...  \n",
       "2               Cygnus olor  A Cygnus olor. A single bird taking-off from t...  \n",
       "3               Cygnus olor  A Cygnus olor. Two birds, short calls and land...  \n",
       "4               Cygnus olor  A Cygnus olor. Flight sounds and starting nois...  \n",
       "..                      ...                                                ...  \n",
       "845      Emberiza hortulana       A Emberiza hortulana. Calls and flight song.  \n",
       "846      Emberiza hortulana  A Emberiza hortulana. Flight calls („pt“) of s...  \n",
       "847         Emberiza caesia  A Emberiza caesia. The sharp „tchitt“ and quie...  \n",
       "848    Emberiza schoeniclus  A Emberiza schoeniclus. Calls of a bird in flight  \n",
       "849  Emberiza melanocephala  A Emberiza melanocephala. Flight song, very ra...  \n",
       "\n",
       "[850 rows x 6 columns]"
      ]
     },
     "execution_count": 2,
     "metadata": {},
     "output_type": "execute_result"
    }
   ],
   "source": [
    "data_dir = Path(\"/data/vogelstimmen_cds/bergmann\")\n",
    "\n",
    "metadata_loc = \"/data/meta/bergman_en.csv\"\n",
    "metadata = pd.read_csv(metadata_loc)\n",
    "metadata\n",
    "\n",
    "# note sampling rate is 44100 for all files in bergman"
   ]
  },
  {
   "cell_type": "code",
   "execution_count": 8,
   "id": "5c9a89e1-30e0-4cee-86dc-dce08b5c64e3",
   "metadata": {},
   "outputs": [],
   "source": [
    "from transformers import AutoTokenizer\n",
    "tokenizer = AutoTokenizer.from_pretrained(\"t5-base\")"
   ]
  },
  {
   "cell_type": "code",
   "execution_count": 11,
   "id": "ee87bedc-5092-4244-8d16-84f992e3ea08",
   "metadata": {},
   "outputs": [
    {
     "data": {
      "text/plain": [
       "count    850.000000\n",
       "mean      27.049412\n",
       "std       10.218457\n",
       "min       11.000000\n",
       "25%       20.000000\n",
       "50%       25.000000\n",
       "75%       32.000000\n",
       "max       92.000000\n",
       "Name: label, dtype: float64"
      ]
     },
     "execution_count": 11,
     "metadata": {},
     "output_type": "execute_result"
    }
   ],
   "source": [
    "metadata[\"label\"].map(lambda x: len(tokenizer.encode(x))).describe()"
   ]
  },
  {
   "cell_type": "code",
   "execution_count": 5,
   "id": "3049e37a-51b3-45f2-a64c-20b49c404351",
   "metadata": {},
   "outputs": [],
   "source": [
    "def to_sec(desc: str): \n",
    "    if desc is np.nan: return np.nan\n",
    "    min, sec = desc.split(\":\")\n",
    "    return int(min) * 60 + int(sec)\n",
    "metadata[\"duration\"] = metadata.duration.apply(to_sec)"
   ]
  },
  {
   "cell_type": "code",
   "execution_count": 11,
   "id": "47d22bb6-2d0b-44c4-ba8c-4af0e468815a",
   "metadata": {
    "tags": []
   },
   "outputs": [
    {
     "name": "stdout",
     "output_type": "stream",
     "text": [
      "Kolkrabe              9\n",
      "Bruchwasserlaeufer    8\n",
      "Rotschenkel           8\n",
      "Girlitz               7\n",
      "Rabenkraehe           7\n",
      "                     ..\n",
      "Tannenmeise           1\n",
      "Gerfalke              1\n",
      "Beutelmeise           1\n",
      "Nebelkraehe           1\n",
      "Kappenammer           1\n",
      "Name: name_de, Length: 351, dtype: int64\n"
     ]
    }
   ],
   "source": [
    "print(metadata.name_de.value_counts())"
   ]
  },
  {
   "cell_type": "code",
   "execution_count": 6,
   "id": "c4647f8d-df9d-4fab-9366-2c035c92b086",
   "metadata": {
    "tags": []
   },
   "outputs": [],
   "source": [
    "def get_file(file_ref):\n",
    "    pattern = os.path.join(data_dir, \"*\", f\"{file_ref}*\")\n",
    "    matches = glob(pattern)\n",
    "    assert len(matches) == 1, f\"the pattern '{pattern}' should only match one file but matches are: {matches}\"\n",
    "    file = matches[0]\n",
    "    return file\n",
    "\n",
    "metadata[\"file\"] = metadata.file.apply(get_file)"
   ]
  },
  {
   "cell_type": "code",
   "execution_count": 9,
   "id": "9cb26fa9-e32b-410f-a878-0b10c9ed39d0",
   "metadata": {
    "tags": []
   },
   "outputs": [],
   "source": [
    "def get_name_components(file):\n",
    "    file = os.path.split(file)[1]\n",
    "    name_components = \" \".join(file.split(\"_\")[1:-1])\n",
    "    return name_components.split()\n",
    "    \n",
    "name_components = metadata.file.apply(get_name_components)\n",
    "split = pd.Series(index=name_components[name_components.apply(lambda x: len(x) != 3)].index, data=([1]*4 + [2]*8 + [1] + [2]*13 + [1]*15 + [2]))"
   ]
  },
  {
   "cell_type": "code",
   "execution_count": 10,
   "id": "6325a069-373d-44e3-9908-7b38e9466937",
   "metadata": {
    "tags": []
   },
   "outputs": [],
   "source": [
    "def get_names(name_components, idx):\n",
    "    if len(name_components) == 3:\n",
    "        name_de = name_components[0]\n",
    "        name_sci = \" \".join(name_components[1:])\n",
    "    else:\n",
    "        split_idx = split.loc[idx]\n",
    "        name_de = \" \".join(name_components[:split_idx])\n",
    "        name_sci = \" \".join(name_components[split_idx:])\n",
    "    \n",
    "    return name_de, name_sci\n",
    "    \n",
    "    \n",
    "for idx, comp in name_components.items():\n",
    "    metadata.loc[idx, [\"name_de\", \"name_sci\"]] = get_names(comp, idx)"
   ]
  },
  {
   "cell_type": "code",
   "execution_count": 3,
   "id": "cd02b272-e699-4c04-960d-23e3049f69b7",
   "metadata": {
    "tags": []
   },
   "outputs": [],
   "source": [
    "# map english names in comment to sci names\n",
    "# Import the required modules\n",
    "import xmltodict\n",
    "from pprint import pprint\n",
    "\n",
    "# Open the file and read the contents\n",
    "with open('../meta/master_ioc-names_xml.xml', 'r', encoding='utf-8') as file:\n",
    "\tmy_xml = file.read()\n",
    "\n",
    "# Use xmltodict to parse and convert the XML document\n",
    "my_dict = xmltodict.parse(my_xml)\n",
    "\n",
    "# Print the dictionary\n",
    "#pprint.pprint(my_dict, indent=2)\n",
    "\n",
    "# !pip3 install xmltodict\n",
    "\n",
    "mapping  = dict()\n",
    "\n",
    "species = []\n",
    "\n",
    "for i in range(len(my_dict['ioclist']['list']['order'])):\n",
    "    family =  my_dict['ioclist']['list']['order'][i]['family']\n",
    "    \n",
    "    if not isinstance(family, list): \n",
    "        family = [family]\n",
    "    \n",
    "    for fam in family:\n",
    "        genus = fam['genus']\n",
    "        if not isinstance(genus, list): \n",
    "            genus = [genus]\n",
    "        \n",
    "        for g in genus:\n",
    "            g_name = g['latin_name']\n",
    "            \n",
    "            if not isinstance(g['species'], list): \n",
    "                g['species'] = [g['species']]\n",
    "            \n",
    "            for item in g['species']:\n",
    "                    mapping[item['english_name']] = f'{g_name} {item[\"latin_name\"]}' \n",
    "                    species.append(f'{g_name} {item[\"latin_name\"]}')"
   ]
  },
  {
   "cell_type": "code",
   "execution_count": 32,
   "id": "07c631ae-98dc-43ad-8c8c-cf017ff10902",
   "metadata": {
    "tags": []
   },
   "outputs": [],
   "source": [
    "def comment_mapping(comment):\n",
    "    out = comment\n",
    "    for name_eng in mapping.keys():\n",
    "        out = out.replace(name_eng, mapping[name_eng])\n",
    "    return out\n",
    "\n",
    "metadata[\"comment\"] = metadata.comment.apply(comment_mapping)"
   ]
  },
  {
   "cell_type": "code",
   "execution_count": 8,
   "id": "2ec5f0de-e096-4b35-8683-60185eb699fd",
   "metadata": {},
   "outputs": [],
   "source": [
    "def get_label(record):\n",
    "    name_sci = record[\"name_sci\"]\n",
    "    comment = record[\"comment\"].strip()\n",
    "    return f\"A {name_sci}. {comment}\"\n",
    "\n",
    "metadata[\"label\"] = metadata.apply(get_label, axis=1)"
   ]
  },
  {
   "cell_type": "code",
   "execution_count": 9,
   "id": "92b425a6-4668-4dc4-93a5-ac3cc3447b1a",
   "metadata": {
    "tags": []
   },
   "outputs": [],
   "source": [
    "metadata.to_csv(metadata_loc, index=False)"
   ]
  }
 ],
 "metadata": {
  "kernelspec": {
   "display_name": "Python 3 (ipykernel)",
   "language": "python",
   "name": "python3"
  },
  "language_info": {
   "codemirror_mode": {
    "name": "ipython",
    "version": 3
   },
   "file_extension": ".py",
   "mimetype": "text/x-python",
   "name": "python",
   "nbconvert_exporter": "python",
   "pygments_lexer": "ipython3",
   "version": "3.10.13"
  }
 },
 "nbformat": 4,
 "nbformat_minor": 5
}
