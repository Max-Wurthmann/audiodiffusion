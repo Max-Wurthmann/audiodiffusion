{
 "cells": [
  {
   "cell_type": "code",
   "execution_count": 20,
   "id": "be8973b7-9f8a-4933-bedb-98c2682afdca",
   "metadata": {},
   "outputs": [],
   "source": [
    "import pandas as pd\n",
    "from tqdm import tqdm\n",
    "from pathlib import Path\n",
    "import datasets\n",
    "from glob import glob\n",
    "import os\n",
    "import json"
   ]
  },
  {
   "cell_type": "markdown",
   "id": "c0ce61d1-8f13-4758-987e-40bd4d65bb83",
   "metadata": {},
   "source": [
    "# command used\n",
    "```bash\n",
    "python /data/BirdNET-Analyzer/analyze.py --i /data/tests/generated/${expname} --o /data/tests/analysed/${expname} --week -1 --lat -1 --lon -1 --rtype \"csv\" --threads 16\n",
    "```\n",
    "note /data/BirdNET-Analyzer is a clone of the repo at https://github.com/kahst/BirdNET-Analyzer"
   ]
  },
  {
   "cell_type": "code",
   "execution_count": 5,
   "id": "80f1c43c-3a54-4c52-aa7a-87cf8c0fbe80",
   "metadata": {},
   "outputs": [],
   "source": [
    "table_file = \"/data/tests/stem_table.json\"\n",
    "with open(table_file) as f:\n",
    "    table = json.load(f)"
   ]
  },
  {
   "cell_type": "code",
   "execution_count": 8,
   "id": "1ac26de3-3dd3-42c7-92e4-5bcb879d74e1",
   "metadata": {},
   "outputs": [
    {
     "name": "stderr",
     "output_type": "stream",
     "text": [
      "100%|██████████| 1000/1000 [00:01<00:00, 609.11it/s]\n"
     ]
    },
    {
     "data": {
      "text/html": [
       "<div>\n",
       "<style scoped>\n",
       "    .dataframe tbody tr th:only-of-type {\n",
       "        vertical-align: middle;\n",
       "    }\n",
       "\n",
       "    .dataframe tbody tr th {\n",
       "        vertical-align: top;\n",
       "    }\n",
       "\n",
       "    .dataframe thead th {\n",
       "        text-align: right;\n",
       "    }\n",
       "</style>\n",
       "<table border=\"1\" class=\"dataframe\">\n",
       "  <thead>\n",
       "    <tr style=\"text-align: right;\">\n",
       "      <th></th>\n",
       "      <th>detected_sci_name</th>\n",
       "      <th>common_name</th>\n",
       "      <th>confidence</th>\n",
       "      <th>file</th>\n",
       "      <th>sci_name</th>\n",
       "    </tr>\n",
       "  </thead>\n",
       "  <tbody>\n",
       "    <tr>\n",
       "      <th>0</th>\n",
       "      <td>Euplectes ardens</td>\n",
       "      <td>Red-collared Widowbird</td>\n",
       "      <td>0.1796</td>\n",
       "      <td>Poecile palustris/XC189461.wav</td>\n",
       "      <td>Poecile palustris</td>\n",
       "    </tr>\n",
       "    <tr>\n",
       "      <th>1</th>\n",
       "      <td>Melanodera xanthogramma</td>\n",
       "      <td>Yellow-bridled Finch</td>\n",
       "      <td>0.1115</td>\n",
       "      <td>Poecile palustris/XC189461.wav</td>\n",
       "      <td>Poecile palustris</td>\n",
       "    </tr>\n",
       "    <tr>\n",
       "      <th>2</th>\n",
       "      <td>Poecile sclateri</td>\n",
       "      <td>Mexican Chickadee</td>\n",
       "      <td>0.8399</td>\n",
       "      <td>Poecile palustris/XC189461.wav</td>\n",
       "      <td>Poecile palustris</td>\n",
       "    </tr>\n",
       "    <tr>\n",
       "      <th>3</th>\n",
       "      <td>Diglossa cyanea</td>\n",
       "      <td>Masked Flowerpiercer</td>\n",
       "      <td>0.2478</td>\n",
       "      <td>Poecile palustris/XC189461.wav</td>\n",
       "      <td>Poecile palustris</td>\n",
       "    </tr>\n",
       "    <tr>\n",
       "      <th>4</th>\n",
       "      <td>Cisticola juncidis</td>\n",
       "      <td>Zitting Cisticola</td>\n",
       "      <td>0.1043</td>\n",
       "      <td>Poecile palustris/XC189461.wav</td>\n",
       "      <td>Poecile palustris</td>\n",
       "    </tr>\n",
       "  </tbody>\n",
       "</table>\n",
       "</div>"
      ],
      "text/plain": [
       "         detected_sci_name             common_name  confidence  \\\n",
       "0         Euplectes ardens  Red-collared Widowbird      0.1796   \n",
       "1  Melanodera xanthogramma    Yellow-bridled Finch      0.1115   \n",
       "2         Poecile sclateri       Mexican Chickadee      0.8399   \n",
       "3          Diglossa cyanea    Masked Flowerpiercer      0.2478   \n",
       "4       Cisticola juncidis       Zitting Cisticola      0.1043   \n",
       "\n",
       "                             file           sci_name  \n",
       "0  Poecile palustris/XC189461.wav  Poecile palustris  \n",
       "1  Poecile palustris/XC189461.wav  Poecile palustris  \n",
       "2  Poecile palustris/XC189461.wav  Poecile palustris  \n",
       "3  Poecile palustris/XC189461.wav  Poecile palustris  \n",
       "4  Poecile palustris/XC189461.wav  Poecile palustris  "
      ]
     },
     "execution_count": 8,
     "metadata": {},
     "output_type": "execute_result"
    }
   ],
   "source": [
    "test_dir = \"/data/tests/analysed/steps100_scale7,5_v3\"\n",
    "\n",
    "assert os.path.isdir(test_dir), \"not analysed yet\"\n",
    "\n",
    "def read_csv_results_file(file: str):\n",
    "    df = pd.read_csv(os.path.join(test_dir, file))\n",
    "    df = df.rename(columns={\"Scientific name\": \"detected_sci_name\",\n",
    "                            \"Common name\": \"common_name\",\n",
    "                            \"Confidence\": \"confidence\"})\n",
    "    df = df.drop(columns=[\"Start (s)\", \"End (s)\"])\n",
    "    stem = file.removesuffix(\".BirdNET.results.csv\")\n",
    "    df[\"file\"], df[\"sci_name\"] = table[stem]\n",
    "    return df\n",
    "    \n",
    "dfs = filter(lambda df: df.size > 0, [read_csv_results_file(file) for file in tqdm(glob(\"*.csv\", root_dir=test_dir))])\n",
    "df = pd.concat(dfs, ignore_index=True)\n",
    "df.head()"
   ]
  },
  {
   "cell_type": "code",
   "execution_count": 9,
   "id": "cfab6469-98be-4570-af8e-b68dc7748564",
   "metadata": {},
   "outputs": [],
   "source": [
    "df.to_csv(test_dir+\".csv\", index=False)"
   ]
  },
  {
   "cell_type": "markdown",
   "id": "e2c0123e-abce-470e-9330-22d49a82a76f",
   "metadata": {},
   "source": [
    "### Test birdnet labels"
   ]
  },
  {
   "cell_type": "code",
   "execution_count": 4,
   "id": "42353a94-c592-40f1-9a2d-884b783e67ae",
   "metadata": {},
   "outputs": [],
   "source": [
    "with open(\"/data/meta/BirdNET_GLOBAL_6K_V2.4_Labels_da.txt\") as f:\n",
    "    birdnet_labels_str = f.read()\n",
    "\n",
    "sci_names = xeno_canto.with_format(\"pandas\")[\"file\"].map(lambda x: Path(x).parent.name)\n",
    "sci_names_unique = pd.Series(sci_names.unique())"
   ]
  },
  {
   "cell_type": "code",
   "execution_count": 29,
   "id": "4f771890-3b10-461d-a2f2-065782a9023d",
   "metadata": {},
   "outputs": [
    {
     "name": "stdout",
     "output_type": "stream",
     "text": [
      "0.8874694684312974\n",
      "unique\n",
      "0.5969604263298135\n"
     ]
    }
   ],
   "source": [
    "is_contained = sci_names.map(lambda x: x in birdnet_labels_str)\n",
    "print(is_contained.mean())\n",
    "\n",
    "print(\"unique\")\n",
    "is_contained = sci_names_unique.map(lambda x: x in birdnet_labels_str)\n",
    "print(is_contained.mean())"
   ]
  },
  {
   "cell_type": "code",
   "execution_count": 20,
   "id": "e0b833d6-118e-4e15-bd60-8c11cea3fb69",
   "metadata": {},
   "outputs": [
    {
     "name": "stdout",
     "output_type": "stream",
     "text": [
      "Labels loaded.\n",
      "load_species_list_model\n",
      "Meta model loaded.\n",
      "-1\n",
      "6522 species loaded.\n"
     ]
    },
    {
     "data": {
      "text/plain": [
       "6522"
      ]
     },
     "execution_count": 20,
     "metadata": {},
     "output_type": "execute_result"
    }
   ],
   "source": [
    "a = birdnetlib.species.SpeciesList()\n",
    "len(a.return_list())"
   ]
  }
 ],
 "metadata": {
  "kernelspec": {
   "display_name": "Python 3 (ipykernel)",
   "language": "python",
   "name": "python3"
  },
  "language_info": {
   "codemirror_mode": {
    "name": "ipython",
    "version": 3
   },
   "file_extension": ".py",
   "mimetype": "text/x-python",
   "name": "python",
   "nbconvert_exporter": "python",
   "pygments_lexer": "ipython3",
   "version": "3.10.13"
  }
 },
 "nbformat": 4,
 "nbformat_minor": 5
}
