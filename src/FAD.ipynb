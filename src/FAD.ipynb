{
 "cells": [
  {
   "cell_type": "code",
   "execution_count": 3,
   "id": "23e1e676-4486-4847-bd5e-c8d2a53221a5",
   "metadata": {},
   "outputs": [],
   "source": [
    "from frechet_audio_distance import FrechetAudioDistance\n",
    "# pann checkpoint: Cnn14_mAP=0.431\n",
    "sr = 32000\n",
    "frechet = FrechetAudioDistance(\n",
    "    ckpt_dir=\"/data/fad_model_ckpt\",\n",
    "    model_name=\"pann\",\n",
    "    sample_rate=sr,\n",
    "    verbose=True,\n",
    "    audio_load_worker=16,\n",
    ")"
   ]
  },
  {
   "cell_type": "code",
   "execution_count": 4,
   "id": "e34505f5-a79d-4a7f-9484-c80629aeb66b",
   "metadata": {},
   "outputs": [
    {
     "name": "stdout",
     "output_type": "stream",
     "text": [
      "[Frechet Audio Distance] Loading embeddings from /data/tests/baseline_embeds.npy...\n"
     ]
    },
    {
     "name": "stderr",
     "output_type": "stream",
     "text": [
      "  2%|▏         | 17/1000 [00:00<00:08, 110.66it/s]"
     ]
    },
    {
     "name": "stdout",
     "output_type": "stream",
     "text": [
      "[Frechet Audio Distance] Loading audio from /data/tests/generated/steps100_scale10_v3...\n"
     ]
    },
    {
     "name": "stderr",
     "output_type": "stream",
     "text": [
      "100%|██████████| 1000/1000 [00:04<00:00, 207.68it/s]\n",
      "100%|██████████| 1000/1000 [02:34<00:00,  6.47it/s]\n"
     ]
    },
    {
     "data": {
      "text/plain": [
       "0.00020710015065933396"
      ]
     },
     "execution_count": 4,
     "metadata": {},
     "output_type": "execute_result"
    }
   ],
   "source": [
    "gen_dir = \"/data/tests/generated/\"\n",
    "frechet.score(background_dir=gen_dir+\"baseline\",\n",
    "              eval_dir=gen_dir+\"steps100_scale10_v3\",\n",
    "              background_embds_path=\"/data/tests/baseline_embeds.npy\",\n",
    "              eval_embds_path=None,\n",
    "             )"
   ]
  }
 ],
 "metadata": {
  "kernelspec": {
   "display_name": "Python 3 (ipykernel)",
   "language": "python",
   "name": "python3"
  },
  "language_info": {
   "codemirror_mode": {
    "name": "ipython",
    "version": 3
   },
   "file_extension": ".py",
   "mimetype": "text/x-python",
   "name": "python",
   "nbconvert_exporter": "python",
   "pygments_lexer": "ipython3",
   "version": "3.10.13"
  }
 },
 "nbformat": 4,
 "nbformat_minor": 5
}
