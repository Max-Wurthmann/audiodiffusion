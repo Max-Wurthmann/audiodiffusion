{
 "cells": [
  {
   "cell_type": "code",
   "execution_count": 19,
   "metadata": {},
   "outputs": [],
   "source": [
    "import requests\n",
    "import json\n",
    "import pandas as pd\n",
    "import numpy as np\n",
    "from ast import literal_eval\n",
    "from tqdm import tqdm\n",
    "from geopy.geocoders import Nominatim\n",
    "from geopy.exc import GeocoderUnavailable, GeocoderServiceError"
   ]
  },
  {
   "cell_type": "code",
   "execution_count": 8,
   "metadata": {},
   "outputs": [],
   "source": [
    "file_name = \"../data/location_data.csv\"\n",
    "df = pd.read_csv(file_name, index_col=0)\n",
    "df.index = [literal_eval(x) for x in df.index]"
   ]
  },
  {
   "cell_type": "code",
   "execution_count": 20,
   "metadata": {},
   "outputs": [],
   "source": [
    "geolocator = Nominatim(user_agent=\"my_app\")\n",
    "\n",
    "def get_country(lat, lon):\n",
    "    coord = f\"{lat}, {lon}\"\n",
    "    location = geolocator.reverse(coord, exactly_one=True)\n",
    "    if location is None:\n",
    "        raise GeocoderServiceError\n",
    "    address = location.raw['address']\n",
    "    country = address.get('country', '')\n",
    "    return country, location.raw"
   ]
  },
  {
   "cell_type": "code",
   "execution_count": 21,
   "metadata": {},
   "outputs": [
    {
     "name": "stderr",
     "output_type": "stream",
     "text": [
      "100%|██████████| 35/35 [00:17<00:00,  2.05it/s]\n"
     ]
    }
   ],
   "source": [
    "unavailable = []\n",
    "for idx in tqdm(df[df.country.isna()].index):\n",
    "    lat, lon = idx\n",
    "    try:\n",
    "        df.loc[[idx], :] = get_country(lat, lon)\n",
    "    except GeocoderUnavailable:\n",
    "        unavailable.append(idx)\n",
    "    except GeocoderServiceError:\n",
    "        unavailable.append(idx)\n",
    "    except Exception as e:\n",
    "        print(e)"
   ]
  },
  {
   "cell_type": "code",
   "execution_count": 22,
   "metadata": {},
   "outputs": [
    {
     "name": "stdout",
     "output_type": "stream",
     "text": [
      "35\n"
     ]
    }
   ],
   "source": [
    "df.to_csv(file_name)\n",
    "print(len(unavailable))"
   ]
  },
  {
   "cell_type": "code",
   "execution_count": 26,
   "metadata": {},
   "outputs": [],
   "source": [
    "def manual_neonatim_request(lat, lon):\n",
    "    url = f\"https://nominatim.openstreetmap.org/reverse?format=jsonv2&lat={lat}6&lon={lon}\"\n",
    "    response = requests.get(url)\n",
    "    return response.json()"
   ]
  },
  {
   "cell_type": "code",
   "execution_count": 31,
   "metadata": {},
   "outputs": [],
   "source": [
    "responses = []\n",
    "for i in unavailable:\n",
    "    lat, lon = i\n",
    "    responses.append(manual_neonatim_request(lat, lon))"
   ]
  },
  {
   "cell_type": "code",
   "execution_count": 32,
   "metadata": {},
   "outputs": [
    {
     "data": {
      "text/plain": [
       "[{'error': 'Unable to geocode'},\n",
       " {'error': 'Unable to geocode'},\n",
       " {'error': 'Unable to geocode'},\n",
       " {'error': 'Unable to geocode'},\n",
       " {'error': 'Unable to geocode'},\n",
       " {'error': 'Unable to geocode'},\n",
       " {'error': 'Unable to geocode'},\n",
       " {'error': 'Unable to geocode'},\n",
       " {'error': 'Unable to geocode'},\n",
       " {'error': 'Unable to geocode'},\n",
       " {'error': 'Unable to geocode'},\n",
       " {'error': 'Unable to geocode'},\n",
       " {'error': 'Unable to geocode'},\n",
       " {'error': 'Unable to geocode'},\n",
       " {'error': 'Unable to geocode'},\n",
       " {'error': 'Unable to geocode'},\n",
       " {'error': 'Unable to geocode'},\n",
       " {'error': 'Unable to geocode'},\n",
       " {'error': 'Unable to geocode'},\n",
       " {'error': 'Unable to geocode'},\n",
       " {'error': 'Unable to geocode'},\n",
       " {'error': 'Unable to geocode'},\n",
       " {'error': 'Unable to geocode'},\n",
       " {'error': 'Unable to geocode'},\n",
       " {'error': 'Unable to geocode'},\n",
       " {'error': 'Unable to geocode'},\n",
       " {'error': 'Unable to geocode'},\n",
       " {'error': 'Unable to geocode'},\n",
       " {'error': 'Unable to geocode'},\n",
       " {'error': 'Unable to geocode'},\n",
       " {'error': 'Unable to geocode'},\n",
       " {'error': 'Unable to geocode'},\n",
       " {'error': 'Unable to geocode'},\n",
       " {'error': 'Unable to geocode'},\n",
       " {'error': 'Unable to geocode'}]"
      ]
     },
     "execution_count": 32,
     "metadata": {},
     "output_type": "execute_result"
    }
   ],
   "source": [
    "responses"
   ]
  }
 ],
 "metadata": {
  "kernelspec": {
   "display_name": "bachelor",
   "language": "python",
   "name": "python3"
  },
  "language_info": {
   "codemirror_mode": {
    "name": "ipython",
    "version": 3
   },
   "file_extension": ".py",
   "mimetype": "text/x-python",
   "name": "python",
   "nbconvert_exporter": "python",
   "pygments_lexer": "ipython3",
   "version": "3.9.13"
  },
  "orig_nbformat": 4
 },
 "nbformat": 4,
 "nbformat_minor": 2
}
